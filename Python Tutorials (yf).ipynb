{
 "cells": [
  {
   "cell_type": "markdown",
   "id": "ed1ee034",
   "metadata": {},
   "source": [
    "# Simple Python Message"
   ]
  },
  {
   "cell_type": "code",
   "execution_count": 1,
   "id": "9156cb9b",
   "metadata": {},
   "outputs": [
    {
     "name": "stdout",
     "output_type": "stream",
     "text": [
      "123\n"
     ]
    }
   ],
   "source": [
    "print (123)"
   ]
  },
  {
   "cell_type": "markdown",
   "id": "b680ca2c",
   "metadata": {},
   "source": [
    "##Variables and Constants"
   ]
  },
  {
   "cell_type": "markdown",
   "id": "92e549aa",
   "metadata": {},
   "source": [
    "Constants aew fixed values that cant be changed in a program during execution\n",
    "while Variables are names used to store data/value that can easily be change in a program during execution"
   ]
  },
  {
   "cell_type": "code",
   "execution_count": 2,
   "id": "24d46c3b",
   "metadata": {},
   "outputs": [
    {
     "name": "stdout",
     "output_type": "stream",
     "text": [
      "123\n"
     ]
    }
   ],
   "source": [
    "#Example for Constant\n",
    "\n",
    "print (123)"
   ]
  },
  {
   "cell_type": "code",
   "execution_count": 3,
   "id": "78eed696",
   "metadata": {},
   "outputs": [
    {
     "name": "stdout",
     "output_type": "stream",
     "text": [
      "Hello World\n"
     ]
    }
   ],
   "source": [
    "print ('Hello World')"
   ]
  },
  {
   "cell_type": "markdown",
   "id": "957f7718",
   "metadata": {},
   "source": [
    "# Understanding Operators"
   ]
  },
  {
   "cell_type": "code",
   "execution_count": 4,
   "id": "fa46443f",
   "metadata": {},
   "outputs": [
    {
     "name": "stdout",
     "output_type": "stream",
     "text": [
      "celcius temperature is 4\n",
      "The result is 39.2\n"
     ]
    }
   ],
   "source": [
    "#Write a progrm that prompts a user for a celcius temp, convert the temp to Fahrenheit and print out the convert temp.\n",
    "#hint use F=C*9/5+32 \n",
    "\n",
    "C= float(input('celcius temperature is '))\n",
    "F= (C * 9) / 5 + 32\n",
    "print('The result is', F)\n",
    "# C is the temperature in Celcius\n",
    "# F is the temperature in Fahrenheit "
   ]
  },
  {
   "cell_type": "code",
   "execution_count": 6,
   "id": "36bad8e3",
   "metadata": {},
   "outputs": [
    {
     "name": "stdout",
     "output_type": "stream",
     "text": [
      "Enter ypur age12\n",
      "17\n"
     ]
    }
   ],
   "source": [
    "#User input (Converting users input int to string)\n",
    "age =input('Enter ypur age')\n",
    "my_age = int(age)+5\n",
    "print(my_age)"
   ]
  },
  {
   "cell_type": "markdown",
   "id": "a7baebdd",
   "metadata": {},
   "source": [
    "# Accepting users input "
   ]
  },
  {
   "cell_type": "code",
   "execution_count": null,
   "id": "a47abd29",
   "metadata": {},
   "outputs": [],
   "source": [
    "#Write a program that prompts a user to write his/her name and then welcome him/her.\n",
    "name= input('Enter your name ')\n",
    "print ('Hello', name)\n",
    "\n",
    "#Write a program that prompts a user to write his/her name and then welcome him/her to python "
   ]
  },
  {
   "cell_type": "markdown",
   "id": "333db73f",
   "metadata": {},
   "source": [
    "# IF Condition"
   ]
  },
  {
   "cell_type": "code",
   "execution_count": null,
   "id": "7c575eea",
   "metadata": {},
   "outputs": [],
   "source": [
    "#Example\n",
    "weight = float(input ('How many pounds does your suitcase weigh?'))\n",
    "if weight > 50:\n",
    "    print ('There is a $25 charge for a heavy luggage')\n",
    "    print ('Thank you')\n",
    "#height = int(input('How many height is your luggge?'))\n",
    "#print ('Your luggage weight is', weight, 'and height is ', height)"
   ]
  },
  {
   "cell_type": "markdown",
   "id": "357afd47",
   "metadata": {},
   "source": [
    "# Chained Condition (Elif statement)"
   ]
  },
  {
   "cell_type": "markdown",
   "id": "1ecb5763",
   "metadata": {},
   "source": [
    "The elif statements allows you to check multiple expressions for TRUE and execute a block of code as soon as one of the conditions evaluates to TRUE.  "
   ]
  },
  {
   "cell_type": "code",
   "execution_count": null,
   "id": "8c7905e1",
   "metadata": {},
   "outputs": [],
   "source": [
    "#Example\n",
    "var = 100\n",
    "\n",
    "if var == 200:\n",
    "    print ('1-Got a true expression value')\n",
    "    print (var)\n",
    "elif var == 150:\n",
    "    print('2- Got a true expression value')\n",
    "    print (var)\n",
    "elif var == 100:\n",
    "    print ('3 - Got a true expression value')\n",
    "    print (var)\n",
    "else:\n",
    "    print ('4 - Got a false expression value')\n",
    "    print (var)\n",
    "print ('Goodbye!')\n",
    "\n",
    "#Always make sure to put the bracket "
   ]
  },
  {
   "cell_type": "code",
   "execution_count": null,
   "id": "32fd087f",
   "metadata": {},
   "outputs": [],
   "source": [
    "#Program that accepts time in 24hrs format and then greet the user \n",
    "#time between 0-12: Good mORNING\n",
    "#TIME between 13-16: Good Afternoon\n",
    "#time between 17-20: Good Evening\n",
    "#time between 21-24: Good Night \n",
    "\n",
    "time = float(input('What is the time in 24hrs format?'))\n",
    "if (time>=0 and time <=12):\n",
    "    print ('Good Morning')\n",
    "elif (time>=13 and time <=16):\n",
    "    print ('Good Afternoon')\n",
    "elif (time >=17 and time <=20):\n",
    "    print ('Good Evening')\n",
    "elif (time >= 21 and time <=24):\n",
    "    print('Good Night')\n",
    "else:\n",
    "    print('Wrong Input')\n",
    "    print('Nice day i hope?')"
   ]
  },
  {
   "cell_type": "code",
   "execution_count": null,
   "id": "c53d3dc9",
   "metadata": {},
   "outputs": [],
   "source": [
    "#Check if a number is Odd or Even with random using if,else\n",
    "import random\n",
    "num= random.randint (1,9)\n",
    "if (num % 2) == 0:\n",
    "    print(num, 'is Even')\n",
    "else:\n",
    "    print(num, 'is Odd')"
   ]
  },
  {
   "cell_type": "code",
   "execution_count": null,
   "id": "fb4fd46d",
   "metadata": {},
   "outputs": [],
   "source": [
    "def hello (what):\n",
    "    text= \"Hello, \" + what + \"!\"\n",
    "    print (text)\n",
    "hello, (\"World\")"
   ]
  },
  {
   "cell_type": "code",
   "execution_count": null,
   "id": "75e82df6",
   "metadata": {},
   "outputs": [],
   "source": [
    "#While Statement\n",
    "var2= 10          #declaring variable var2 with the value 10\n",
    "while var2> 0:    #condition: var2>0, checks if the value of var2 is greater than zero\n",
    "    print (var2)  #prints the value of var2 if its condition is true\n",
    "    var2=var2-2   #decrements the current value of var2\n",
    "    print ('Seyi is a good boy')  #Prints this if the condition is true\n",
    "else:             #New condition else:\n",
    "    print('NO, bad boi')        #prints this when the condition is no longer true"
   ]
  },
  {
   "cell_type": "code",
   "execution_count": null,
   "id": "19114b0a",
   "metadata": {},
   "outputs": [],
   "source": [
    "#error\n",
    "n=2\n",
    "while n>= 10:\n",
    "    i n%2==10:\n",
    "    print (n)\n",
    "    n=n+1"
   ]
  },
  {
   "cell_type": "code",
   "execution_count": 17,
   "id": "c0c2343e",
   "metadata": {},
   "outputs": [
    {
     "ename": "SyntaxError",
     "evalue": "invalid syntax (4229927020.py, line 8)",
     "output_type": "error",
     "traceback": [
      "\u001b[1;36m  Input \u001b[1;32mIn [17]\u001b[1;36m\u001b[0m\n\u001b[1;33m    for x in range (-40,40)\u001b[0m\n\u001b[1;37m    ^\u001b[0m\n\u001b[1;31mSyntaxError\u001b[0m\u001b[1;31m:\u001b[0m invalid syntax\n"
     ]
    }
   ],
   "source": [
    "print ('\\n'.join\n",
    "    ([''.join])\n",
    "     ([('Computer Science '(x-y)%20)\n",
    "        if ((x*0.05)**4+(y*0.1)**4-2)\n",
    "         **3-(x*0.05)**4*(y*0.1)\n",
    "         **3<=0 \n",
    "       else\n",
    "        for x in range (-40,40)\n",
    "        for y in range (15, -15, -1)])}"
   ]
  },
  {
   "cell_type": "code",
   "execution_count": null,
   "id": "176ac3d7",
   "metadata": {},
   "outputs": [],
   "source": []
  },
  {
   "cell_type": "code",
   "execution_count": null,
   "id": "f401f4dc",
   "metadata": {},
   "outputs": [],
   "source": [
    "import random\n",
    "MIN = 1 \n",
    "MAX = 8  #constants for the MIN and MAX random\n",
    "def main():\n",
    "    again = 'y'  #create a variable to control the loop\n",
    "    while again == 'y' or again =='Y':\n",
    "        print ('Rolling the Dice')\n",
    "        print ('their values are')\n",
    "        print (random.randint (MIN, MAX))\n",
    "        print (random.randint (MIN, MAX))\n",
    "        #do another, roll the dice\n",
    "        again = input ('Roll dice again? (y=yes)')\n",
    "main()"
   ]
  },
  {
   "cell_type": "code",
   "execution_count": 22,
   "id": "9c01ac3c",
   "metadata": {},
   "outputs": [
    {
     "ename": "SyntaxError",
     "evalue": "invalid syntax (3379113223.py, line 21)",
     "output_type": "error",
     "traceback": [
      "\u001b[1;36m  Input \u001b[1;32mIn [22]\u001b[1;36m\u001b[0m\n\u001b[1;33m    elif:\u001b[0m\n\u001b[1;37m    ^\u001b[0m\n\u001b[1;31mSyntaxError\u001b[0m\u001b[1;31m:\u001b[0m invalid syntax\n"
     ]
    }
   ],
   "source": [
    "import cv2\n",
    "import numpy as np\n",
    "import os\n",
    "fingerprint_test = cv2.imread(\"TEST_1.tif\")\n",
    "cv2.imshow(\"Original\", cv2.resize(fingerprint_test, None, fx=1, fy=1))\n",
    "cv2.waitKey(0)\n",
    "cv2.destroyAllWindows()\n",
    "for file in [file for file in os.listdir(\"database\")]:\n",
    "    fingerprint_database_image = cv2.imread(\"./database/\"+file)\n",
    "    sift = cv2.xfeatures2d.SIFT_create()\n",
    "    keypoints_1, descriptors_1 = sift.detectAndCompute(fingerprint_test, None)\n",
    "    keypoints_2, descriptors_2 = sift.detectAndCompute(fingerprint_database_image, None)\n",
    "    matches = cv2.FlannBasedMatcher(dict(algorithm=1, trees=10), dict()).knnMatch(descriptors_1, descriptors_2, k=2)\n",
    "    match_points = []\n",
    "    for p, q in matches:\n",
    "        if p.distance < 0.1*q.distance:\n",
    "            match_points.append(p)\n",
    "            keypoints = 0\n",
    "            if len(keypoints_1) <= len(keypoints_2):\n",
    "                keypoints = len(keypoints_1)            \n",
    "                else:\n",
    "                    keypoints = len(keypoints_2)\n",
    "                    if (len(match_points) / keypoints)>0.95:\n",
    "                        print(\"% match: \", len(match_points) / keypoints * 100)\n",
    "                        print(\"Figerprint ID: \" + str(file)) \n",
    "                        result = cv2.drawMatches(fingerprint_test, keypoints_1, fingerprint_database_image, keypoints_2, match_points, None) \n",
    "                        result = cv2.resize(result, None, fx=2.5, fy=2.5)\n",
    "                        cv2.imshow(\"result\", result)\n",
    "                        cv2.waitKey(0)\n",
    "                        cv2.destroyAllWindows()\n",
    "                        break;"
   ]
  },
  {
   "cell_type": "code",
   "execution_count": null,
   "id": "26675c0c",
   "metadata": {},
   "outputs": [],
   "source": [
    "# Compute descriptors\n",
    "keypoints, des = orb.compute(img, keypoints)\n",
    "\n",
    "#Display keypoints\n",
    "\"\"\"fig, ax = plt.subplots()\n",
    "ax.imshow(skeleton, interpolation='nearest', cmap=plt.cm.gray)\n",
    "ax.plot(coords[:, 1], coords[:, 0], '.b', markersize=3)\n",
    "ax.plot(coords_subpix[:, 1], coords_subpix[:, 0], '+r', markersize=15)\n",
    "ax.axis((0, 350, 350, 0))\n",
    "plt.show()\"\"\"\n",
    "\n",
    "return (keypoints, des);\n",
    "\n",
    "\n",
    "def main():\n",
    "image_name = sys.argv[1]\n",
    "img1 = cv2.imread(\"database/\" + image_name, cv2.IMREAD_GRAYSCALE)\n",
    "kp1, des1 = get_descriptors(img1)\n",
    "\n",
    "image_name = sys.argv[2]\n",
    "img2 = cv2.imread(\"database/\" + image_name, cv2.IMREAD_GRAYSCALE)\n",
    "kp2, des2 = get_descriptors(img2)\n",
    "# Hamming brute-force matching\n",
    "sk_matches = match_descriptors(des1, des2, metric='hamming')\n",
    "bf = cv2.BFMatcher(cv2.NORM_HAMMING, crossCheck=True)\n",
    "matches = bf.match(des1,des2) zd44e3se34`\n",
    "matches = sorted(matches, key = lambda x:x.distance, reverse=True)\n",
    "\n",
    "# Draw first matches.\n",
    "img3 = cv2.drawMatches(img1,kp1,img2,kp2,matches, flags=2, outImg=img1)\n",
    "plt.imshow(img3)\n",
    "plt.show()\n",
    "\n",
    "score_threshold = 500;\n",
    "score = 0;\n",
    "\n",
    "for row in sk_matches:\n",
    "score += abs(row[0]-row[1])\n",
    "\n",
    "print(score)\n",
    "if score_threshold > score:\n",
    "print(\"Fingerprint matches!\");\n",
    "else:\n",
    "print(\"Fingerprint does not match!\")b   "
   ]
  },
  {
   "cell_type": "code",
   "execution_count": 2,
   "id": "10e55042",
   "metadata": {},
   "outputs": [
    {
     "name": "stdout",
     "output_type": "stream",
     "text": [
      "programiz.com\n",
      "programiz.com\n"
     ]
    }
   ],
   "source": [
    "site1 = site2  = 'programiz.com'\n",
    "\n",
    "print (site1)  # prints programiz.com\n",
    "print (site2)  # prints programiz.com"
   ]
  },
  {
   "cell_type": "code",
   "execution_count": 4,
   "id": "eb4d62e8",
   "metadata": {},
   "outputs": [
    {
     "name": "stdout",
     "output_type": "stream",
     "text": [
      "['apple', 'mango', 'orange']\n",
      "(1, 2, 3)\n",
      "{'a': 'apple', 'b': 'ball', 'c': 'cat'}\n",
      "{'i', 'a', 'e', 'u', 'o'}\n"
     ]
    }
   ],
   "source": [
    "# list literal\n",
    "fruits = [\"apple\", \"mango\", \"orange\"] \n",
    "print(fruits)\n",
    "\n",
    "# tuple literal\n",
    "numbers = (1, 2, 3) \n",
    "print(numbers)\n",
    "\n",
    "# dictionary literal\n",
    "alphabets = {'a':'apple', 'b':'ball', 'c':'cat'} \n",
    "print(alphabets)\n",
    "\n",
    "# set literal\n",
    "vowels = {'a', 'e', 'i' , 'o', 'u'} \n",
    "print(vowels)"
   ]
  },
  {
   "cell_type": "code",
   "execution_count": 7,
   "id": "cf219217",
   "metadata": {},
   "outputs": [
    {
     "name": "stdout",
     "output_type": "stream",
     "text": [
      "5 is of type <class 'int'>\n",
      "2.0 is of type <class 'float'>\n",
      "(1+2j) is a complex number? <class 'complex'>\n"
     ]
    }
   ],
   "source": [
    "num1 = 5\n",
    "print(num1, 'is of type', type(num1))\n",
    "\n",
    "num2 = 2.0\n",
    "print(num2, 'is of type', type(num2))\n",
    "\n",
    "num3 = 1+2j\n",
    "print(num3, 'is a complex number?', type(num3))"
   ]
  },
  {
   "cell_type": "code",
   "execution_count": 8,
   "id": "7261131d",
   "metadata": {},
   "outputs": [
    {
     "name": "stdout",
     "output_type": "stream",
     "text": [
      "Swift\n",
      "Python\n"
     ]
    }
   ],
   "source": [
    "languages = [\"Swift\", \"Java\", \"Python\"]\n",
    "\n",
    "# access element at index 0\n",
    "print(languages[0])   # Swift\n",
    "\n",
    "# access element at index 2\n",
    "print(languages[2])   # Python"
   ]
  },
  {
   "cell_type": "code",
   "execution_count": 11,
   "id": "71707dbc",
   "metadata": {},
   "outputs": [
    {
     "name": "stdout",
     "output_type": "stream",
     "text": [
      "Microsoft\n",
      "Xbox\n"
     ]
    }
   ],
   "source": [
    "# create a tuple \n",
    "product = ('Microsoft', 'Xbox', 499.99)\n",
    "\n",
    "# access element at index 0\n",
    "print(product[0])   # Microsoft\n",
    "\n",
    "# access element at index 1\n",
    "print(product[1])   # Xbox"
   ]
  },
  {
   "cell_type": "code",
   "execution_count": 12,
   "id": "a733b3b4",
   "metadata": {},
   "outputs": [
    {
     "name": "stdout",
     "output_type": "stream",
     "text": [
      "Python\n",
      "Python for beginners\n"
     ]
    }
   ],
   "source": [
    "name = 'Python'\n",
    "print(name)  \n",
    "\n",
    "message = 'Python for beginners'\n",
    "print(message)"
   ]
  },
  {
   "cell_type": "code",
   "execution_count": 14,
   "id": "26365220",
   "metadata": {},
   "outputs": [
    {
     "name": "stdout",
     "output_type": "stream",
     "text": [
      "{112, 114, 115, 118, 119}\n",
      "<class 'set'>\n"
     ]
    }
   ],
   "source": [
    "# create a set named student_id\n",
    "student_id = {112, 114, 119, 118, 115}\n",
    "\n",
    "# display student_id elements\n",
    "print(student_id)\n",
    "\n",
    "# display type of student_id\n",
    "print(type(student_id))"
   ]
  },
  {
   "cell_type": "code",
   "execution_count": 2,
   "id": "c19bf0b5",
   "metadata": {},
   "outputs": [
    {
     "name": "stdout",
     "output_type": "stream",
     "text": [
      "p\n",
      "t\n",
      "s\n",
      "4\n"
     ]
    }
   ],
   "source": [
    "# Accessing tuple elements using indexing\n",
    "my_tuple = ('p','e','r','m','i','t')\n",
    "\n",
    "print(my_tuple[0])   # 'p' \n",
    "print(my_tuple[5])   # 't'\n",
    "\n",
    "# IndexError: list index out of range\n",
    "# print(my_tuple[6])\n",
    "\n",
    "# Index must be an integer\n",
    "# TypeError: list indices must be integers, not float\n",
    "# my_tuple[2.0]\n",
    "\n",
    "# nested tuple\n",
    "n_tuple = (\"mouse\", [8, 4, 6], (1, 2, 3))\n",
    "\n",
    "# nested index\n",
    "print(n_tuple[0][3])       # 's'- # 0 rep the mouse in the first bracket and 3 rep the s in mouse\n",
    "print(n_tuple[1][1])       # 4 - # 1 rep the 2nd bracket in 8,4,6 and 1 rep 4 in the 2nd bracket"
   ]
  },
  {
   "cell_type": "code",
   "execution_count": 3,
   "id": "3613bd3b",
   "metadata": {},
   "outputs": [
    {
     "name": "stdout",
     "output_type": "stream",
     "text": [
      "()\n",
      "(1, 2, 3)\n",
      "(1, 'Hello', 3.4)\n",
      "('mouse', [8, 4, 6], (1, 2, 3))\n"
     ]
    }
   ],
   "source": [
    "# Different types of tuples\n",
    "\n",
    "# Empty tuple\n",
    "my_tuple = ()\n",
    "print(my_tuple)\n",
    "\n",
    "# Tuple having integers\n",
    "my_tuple = (1, 2, 3)\n",
    "print(my_tuple)\n",
    "\n",
    "# tuple with mixed datatypes\n",
    "my_tuple = (1, \"Hello\", 3.4)\n",
    "print(my_tuple)\n",
    "\n",
    "# nested tuple\n",
    "my_tuple = (\"mouse\", [8, 4, 6], (1, 2, 3))\n",
    "print(my_tuple)"
   ]
  },
  {
   "cell_type": "code",
   "execution_count": 11,
   "id": "1e49a020",
   "metadata": {},
   "outputs": [
    {
     "name": "stdout",
     "output_type": "stream",
     "text": [
      "Enter share name: AAPL\n",
      "141.17\n"
     ]
    }
   ],
   "source": [
    "#Checking stock price with Python\n",
    "import yfinance as yf\n",
    "STK = input('Enter share name: ')\n",
    "Share = yf.Ticker(STK).info\n",
    "market_price = Share['regularMarketPrice']\n",
    "print(market_price)\n"
   ]
  },
  {
   "cell_type": "code",
   "execution_count": 22,
   "id": "50162da8",
   "metadata": {},
   "outputs": [
    {
     "data": {
      "text/html": [
       "<div>\n",
       "<style scoped>\n",
       "    .dataframe tbody tr th:only-of-type {\n",
       "        vertical-align: middle;\n",
       "    }\n",
       "\n",
       "    .dataframe tbody tr th {\n",
       "        vertical-align: top;\n",
       "    }\n",
       "\n",
       "    .dataframe thead th {\n",
       "        text-align: right;\n",
       "    }\n",
       "</style>\n",
       "<table border=\"1\" class=\"dataframe\">\n",
       "  <thead>\n",
       "    <tr style=\"text-align: right;\">\n",
       "      <th></th>\n",
       "      <th>Open</th>\n",
       "      <th>High</th>\n",
       "      <th>Low</th>\n",
       "      <th>Close</th>\n",
       "      <th>Volume</th>\n",
       "      <th>Dividends</th>\n",
       "      <th>Stock Splits</th>\n",
       "    </tr>\n",
       "    <tr>\n",
       "      <th>Datetime</th>\n",
       "      <th></th>\n",
       "      <th></th>\n",
       "      <th></th>\n",
       "      <th></th>\n",
       "      <th></th>\n",
       "      <th></th>\n",
       "      <th></th>\n",
       "    </tr>\n",
       "  </thead>\n",
       "  <tbody>\n",
       "    <tr>\n",
       "      <th>2022-11-02 09:30:00-04:00</th>\n",
       "      <td>148.945007</td>\n",
       "      <td>149.919998</td>\n",
       "      <td>148.889999</td>\n",
       "      <td>149.889999</td>\n",
       "      <td>2521504</td>\n",
       "      <td>0.0</td>\n",
       "      <td>0</td>\n",
       "    </tr>\n",
       "    <tr>\n",
       "      <th>2022-11-02 09:31:00-04:00</th>\n",
       "      <td>149.869995</td>\n",
       "      <td>150.600006</td>\n",
       "      <td>149.740005</td>\n",
       "      <td>149.913895</td>\n",
       "      <td>464225</td>\n",
       "      <td>0.0</td>\n",
       "      <td>0</td>\n",
       "    </tr>\n",
       "    <tr>\n",
       "      <th>2022-11-02 09:32:00-04:00</th>\n",
       "      <td>149.910004</td>\n",
       "      <td>149.921005</td>\n",
       "      <td>149.610001</td>\n",
       "      <td>149.679993</td>\n",
       "      <td>282987</td>\n",
       "      <td>0.0</td>\n",
       "      <td>0</td>\n",
       "    </tr>\n",
       "    <tr>\n",
       "      <th>2022-11-02 09:33:00-04:00</th>\n",
       "      <td>149.660797</td>\n",
       "      <td>149.725998</td>\n",
       "      <td>149.369995</td>\n",
       "      <td>149.610001</td>\n",
       "      <td>279826</td>\n",
       "      <td>0.0</td>\n",
       "      <td>0</td>\n",
       "    </tr>\n",
       "    <tr>\n",
       "      <th>2022-11-02 09:34:00-04:00</th>\n",
       "      <td>149.615005</td>\n",
       "      <td>150.119904</td>\n",
       "      <td>149.610001</td>\n",
       "      <td>149.769897</td>\n",
       "      <td>343195</td>\n",
       "      <td>0.0</td>\n",
       "      <td>0</td>\n",
       "    </tr>\n",
       "    <tr>\n",
       "      <th>...</th>\n",
       "      <td>...</td>\n",
       "      <td>...</td>\n",
       "      <td>...</td>\n",
       "      <td>...</td>\n",
       "      <td>...</td>\n",
       "      <td>...</td>\n",
       "      <td>...</td>\n",
       "    </tr>\n",
       "    <tr>\n",
       "      <th>2022-11-04 15:55:00-04:00</th>\n",
       "      <td>137.664993</td>\n",
       "      <td>138.059998</td>\n",
       "      <td>137.664993</td>\n",
       "      <td>138.029999</td>\n",
       "      <td>754928</td>\n",
       "      <td>0.0</td>\n",
       "      <td>0</td>\n",
       "    </tr>\n",
       "    <tr>\n",
       "      <th>2022-11-04 15:56:00-04:00</th>\n",
       "      <td>138.029999</td>\n",
       "      <td>138.220001</td>\n",
       "      <td>137.920807</td>\n",
       "      <td>138.070007</td>\n",
       "      <td>632994</td>\n",
       "      <td>0.0</td>\n",
       "      <td>0</td>\n",
       "    </tr>\n",
       "    <tr>\n",
       "      <th>2022-11-04 15:57:00-04:00</th>\n",
       "      <td>138.080002</td>\n",
       "      <td>138.279999</td>\n",
       "      <td>137.949997</td>\n",
       "      <td>138.029999</td>\n",
       "      <td>610145</td>\n",
       "      <td>0.0</td>\n",
       "      <td>0</td>\n",
       "    </tr>\n",
       "    <tr>\n",
       "      <th>2022-11-04 15:58:00-04:00</th>\n",
       "      <td>138.039993</td>\n",
       "      <td>138.070007</td>\n",
       "      <td>137.964996</td>\n",
       "      <td>138.029999</td>\n",
       "      <td>719461</td>\n",
       "      <td>0.0</td>\n",
       "      <td>0</td>\n",
       "    </tr>\n",
       "    <tr>\n",
       "      <th>2022-11-04 15:59:00-04:00</th>\n",
       "      <td>138.035004</td>\n",
       "      <td>138.500000</td>\n",
       "      <td>138.029999</td>\n",
       "      <td>138.399994</td>\n",
       "      <td>1556180</td>\n",
       "      <td>0.0</td>\n",
       "      <td>0</td>\n",
       "    </tr>\n",
       "  </tbody>\n",
       "</table>\n",
       "<p>1168 rows × 7 columns</p>\n",
       "</div>"
      ],
      "text/plain": [
       "                                 Open        High         Low       Close  \\\n",
       "Datetime                                                                    \n",
       "2022-11-02 09:30:00-04:00  148.945007  149.919998  148.889999  149.889999   \n",
       "2022-11-02 09:31:00-04:00  149.869995  150.600006  149.740005  149.913895   \n",
       "2022-11-02 09:32:00-04:00  149.910004  149.921005  149.610001  149.679993   \n",
       "2022-11-02 09:33:00-04:00  149.660797  149.725998  149.369995  149.610001   \n",
       "2022-11-02 09:34:00-04:00  149.615005  150.119904  149.610001  149.769897   \n",
       "...                               ...         ...         ...         ...   \n",
       "2022-11-04 15:55:00-04:00  137.664993  138.059998  137.664993  138.029999   \n",
       "2022-11-04 15:56:00-04:00  138.029999  138.220001  137.920807  138.070007   \n",
       "2022-11-04 15:57:00-04:00  138.080002  138.279999  137.949997  138.029999   \n",
       "2022-11-04 15:58:00-04:00  138.039993  138.070007  137.964996  138.029999   \n",
       "2022-11-04 15:59:00-04:00  138.035004  138.500000  138.029999  138.399994   \n",
       "\n",
       "                            Volume  Dividends  Stock Splits  \n",
       "Datetime                                                     \n",
       "2022-11-02 09:30:00-04:00  2521504        0.0             0  \n",
       "2022-11-02 09:31:00-04:00   464225        0.0             0  \n",
       "2022-11-02 09:32:00-04:00   282987        0.0             0  \n",
       "2022-11-02 09:33:00-04:00   279826        0.0             0  \n",
       "2022-11-02 09:34:00-04:00   343195        0.0             0  \n",
       "...                            ...        ...           ...  \n",
       "2022-11-04 15:55:00-04:00   754928        0.0             0  \n",
       "2022-11-04 15:56:00-04:00   632994        0.0             0  \n",
       "2022-11-04 15:57:00-04:00   610145        0.0             0  \n",
       "2022-11-04 15:58:00-04:00   719461        0.0             0  \n",
       "2022-11-04 15:59:00-04:00  1556180        0.0             0  \n",
       "\n",
       "[1168 rows x 7 columns]"
      ]
     },
     "execution_count": 22,
     "metadata": {},
     "output_type": "execute_result"
    }
   ],
   "source": [
    "aapl= yf.Ticker(\"AAPL\") #Check the stock history of AAPL\n",
    "aapl_historical = aapl.history(start=\"2022-11-02\", end=\"2022-11-07\", interval=\"1m\") #check the history of aapl from the date specified\n",
    "aapl_historical"
   ]
  },
  {
   "cell_type": "code",
   "execution_count": 19,
   "id": "478d8f9d",
   "metadata": {},
   "outputs": [
    {
     "name": "stdout",
     "output_type": "stream",
     "text": [
      "[*********************100%***********************]  3 of 3 completed\n"
     ]
    },
    {
     "data": {
      "text/html": [
       "<div>\n",
       "<style scoped>\n",
       "    .dataframe tbody tr th:only-of-type {\n",
       "        vertical-align: middle;\n",
       "    }\n",
       "\n",
       "    .dataframe tbody tr th {\n",
       "        vertical-align: top;\n",
       "    }\n",
       "\n",
       "    .dataframe thead tr th {\n",
       "        text-align: left;\n",
       "    }\n",
       "\n",
       "    .dataframe thead tr:last-of-type th {\n",
       "        text-align: right;\n",
       "    }\n",
       "</style>\n",
       "<table border=\"1\" class=\"dataframe\">\n",
       "  <thead>\n",
       "    <tr>\n",
       "      <th></th>\n",
       "      <th colspan=\"3\" halign=\"left\">Adj Close</th>\n",
       "      <th colspan=\"3\" halign=\"left\">Close</th>\n",
       "      <th colspan=\"3\" halign=\"left\">High</th>\n",
       "      <th colspan=\"3\" halign=\"left\">Low</th>\n",
       "      <th colspan=\"3\" halign=\"left\">Open</th>\n",
       "      <th colspan=\"3\" halign=\"left\">Volume</th>\n",
       "    </tr>\n",
       "    <tr>\n",
       "      <th></th>\n",
       "      <th>AAPL</th>\n",
       "      <th>AMZN</th>\n",
       "      <th>GOOG</th>\n",
       "      <th>AAPL</th>\n",
       "      <th>AMZN</th>\n",
       "      <th>GOOG</th>\n",
       "      <th>AAPL</th>\n",
       "      <th>AMZN</th>\n",
       "      <th>GOOG</th>\n",
       "      <th>AAPL</th>\n",
       "      <th>AMZN</th>\n",
       "      <th>GOOG</th>\n",
       "      <th>AAPL</th>\n",
       "      <th>AMZN</th>\n",
       "      <th>GOOG</th>\n",
       "      <th>AAPL</th>\n",
       "      <th>AMZN</th>\n",
       "      <th>GOOG</th>\n",
       "    </tr>\n",
       "    <tr>\n",
       "      <th>Date</th>\n",
       "      <th></th>\n",
       "      <th></th>\n",
       "      <th></th>\n",
       "      <th></th>\n",
       "      <th></th>\n",
       "      <th></th>\n",
       "      <th></th>\n",
       "      <th></th>\n",
       "      <th></th>\n",
       "      <th></th>\n",
       "      <th></th>\n",
       "      <th></th>\n",
       "      <th></th>\n",
       "      <th></th>\n",
       "      <th></th>\n",
       "      <th></th>\n",
       "      <th></th>\n",
       "      <th></th>\n",
       "    </tr>\n",
       "  </thead>\n",
       "  <tbody>\n",
       "    <tr>\n",
       "      <th>2017-01-03</th>\n",
       "      <td>27.174755</td>\n",
       "      <td>37.683498</td>\n",
       "      <td>39.306999</td>\n",
       "      <td>29.037500</td>\n",
       "      <td>37.683498</td>\n",
       "      <td>39.306999</td>\n",
       "      <td>29.082500</td>\n",
       "      <td>37.938000</td>\n",
       "      <td>39.481499</td>\n",
       "      <td>28.690001</td>\n",
       "      <td>37.384998</td>\n",
       "      <td>38.790001</td>\n",
       "      <td>28.950001</td>\n",
       "      <td>37.896000</td>\n",
       "      <td>38.940498</td>\n",
       "      <td>115127600</td>\n",
       "      <td>70422000</td>\n",
       "      <td>33146000</td>\n",
       "    </tr>\n",
       "    <tr>\n",
       "      <th>2017-01-04</th>\n",
       "      <td>27.144339</td>\n",
       "      <td>37.859001</td>\n",
       "      <td>39.345001</td>\n",
       "      <td>29.004999</td>\n",
       "      <td>37.859001</td>\n",
       "      <td>39.345001</td>\n",
       "      <td>29.127501</td>\n",
       "      <td>37.984001</td>\n",
       "      <td>39.567001</td>\n",
       "      <td>28.937500</td>\n",
       "      <td>37.709999</td>\n",
       "      <td>39.158001</td>\n",
       "      <td>28.962500</td>\n",
       "      <td>37.919498</td>\n",
       "      <td>39.417999</td>\n",
       "      <td>84472400</td>\n",
       "      <td>50210000</td>\n",
       "      <td>21460000</td>\n",
       "    </tr>\n",
       "    <tr>\n",
       "      <th>2017-01-05</th>\n",
       "      <td>27.282375</td>\n",
       "      <td>39.022499</td>\n",
       "      <td>39.701000</td>\n",
       "      <td>29.152500</td>\n",
       "      <td>39.022499</td>\n",
       "      <td>39.701000</td>\n",
       "      <td>29.215000</td>\n",
       "      <td>39.119999</td>\n",
       "      <td>39.723999</td>\n",
       "      <td>28.952499</td>\n",
       "      <td>38.013000</td>\n",
       "      <td>39.250999</td>\n",
       "      <td>28.980000</td>\n",
       "      <td>38.077499</td>\n",
       "      <td>39.304001</td>\n",
       "      <td>88774400</td>\n",
       "      <td>116602000</td>\n",
       "      <td>26704000</td>\n",
       "    </tr>\n",
       "    <tr>\n",
       "      <th>2017-01-06</th>\n",
       "      <td>27.586527</td>\n",
       "      <td>39.799500</td>\n",
       "      <td>40.307499</td>\n",
       "      <td>29.477501</td>\n",
       "      <td>39.799500</td>\n",
       "      <td>40.307499</td>\n",
       "      <td>29.540001</td>\n",
       "      <td>39.972000</td>\n",
       "      <td>40.395000</td>\n",
       "      <td>29.117500</td>\n",
       "      <td>38.924000</td>\n",
       "      <td>39.610199</td>\n",
       "      <td>29.195000</td>\n",
       "      <td>39.118000</td>\n",
       "      <td>39.763000</td>\n",
       "      <td>127007600</td>\n",
       "      <td>119724000</td>\n",
       "      <td>32804000</td>\n",
       "    </tr>\n",
       "    <tr>\n",
       "      <th>2017-01-09</th>\n",
       "      <td>27.839205</td>\n",
       "      <td>39.846001</td>\n",
       "      <td>40.332500</td>\n",
       "      <td>29.747499</td>\n",
       "      <td>39.846001</td>\n",
       "      <td>40.332500</td>\n",
       "      <td>29.857500</td>\n",
       "      <td>40.088501</td>\n",
       "      <td>40.498299</td>\n",
       "      <td>29.485001</td>\n",
       "      <td>39.588501</td>\n",
       "      <td>40.141499</td>\n",
       "      <td>29.487499</td>\n",
       "      <td>39.900002</td>\n",
       "      <td>40.320000</td>\n",
       "      <td>134247600</td>\n",
       "      <td>68922000</td>\n",
       "      <td>25492000</td>\n",
       "    </tr>\n",
       "    <tr>\n",
       "      <th>...</th>\n",
       "      <td>...</td>\n",
       "      <td>...</td>\n",
       "      <td>...</td>\n",
       "      <td>...</td>\n",
       "      <td>...</td>\n",
       "      <td>...</td>\n",
       "      <td>...</td>\n",
       "      <td>...</td>\n",
       "      <td>...</td>\n",
       "      <td>...</td>\n",
       "      <td>...</td>\n",
       "      <td>...</td>\n",
       "      <td>...</td>\n",
       "      <td>...</td>\n",
       "      <td>...</td>\n",
       "      <td>...</td>\n",
       "      <td>...</td>\n",
       "      <td>...</td>\n",
       "    </tr>\n",
       "    <tr>\n",
       "      <th>2017-04-24</th>\n",
       "      <td>33.752087</td>\n",
       "      <td>45.370499</td>\n",
       "      <td>43.138000</td>\n",
       "      <td>35.910000</td>\n",
       "      <td>45.370499</td>\n",
       "      <td>43.138000</td>\n",
       "      <td>35.987499</td>\n",
       "      <td>45.499500</td>\n",
       "      <td>43.172501</td>\n",
       "      <td>35.794998</td>\n",
       "      <td>45.191002</td>\n",
       "      <td>42.493000</td>\n",
       "      <td>35.875000</td>\n",
       "      <td>45.433998</td>\n",
       "      <td>42.560001</td>\n",
       "      <td>68537200</td>\n",
       "      <td>62458000</td>\n",
       "      <td>27450000</td>\n",
       "    </tr>\n",
       "    <tr>\n",
       "      <th>2017-04-25</th>\n",
       "      <td>33.961220</td>\n",
       "      <td>45.381001</td>\n",
       "      <td>43.615002</td>\n",
       "      <td>36.132500</td>\n",
       "      <td>45.381001</td>\n",
       "      <td>43.615002</td>\n",
       "      <td>36.224998</td>\n",
       "      <td>45.473999</td>\n",
       "      <td>43.750000</td>\n",
       "      <td>35.967499</td>\n",
       "      <td>45.150002</td>\n",
       "      <td>43.140499</td>\n",
       "      <td>35.977501</td>\n",
       "      <td>45.352001</td>\n",
       "      <td>43.250000</td>\n",
       "      <td>75486000</td>\n",
       "      <td>67612000</td>\n",
       "      <td>33440000</td>\n",
       "    </tr>\n",
       "    <tr>\n",
       "      <th>2017-04-26</th>\n",
       "      <td>33.761494</td>\n",
       "      <td>45.464500</td>\n",
       "      <td>43.586498</td>\n",
       "      <td>35.919998</td>\n",
       "      <td>45.464500</td>\n",
       "      <td>43.586498</td>\n",
       "      <td>36.150002</td>\n",
       "      <td>45.787498</td>\n",
       "      <td>43.802502</td>\n",
       "      <td>35.845001</td>\n",
       "      <td>45.377998</td>\n",
       "      <td>43.387402</td>\n",
       "      <td>36.117500</td>\n",
       "      <td>45.514999</td>\n",
       "      <td>43.711498</td>\n",
       "      <td>80164800</td>\n",
       "      <td>52178000</td>\n",
       "      <td>24744000</td>\n",
       "    </tr>\n",
       "    <tr>\n",
       "      <th>2017-04-27</th>\n",
       "      <td>33.787342</td>\n",
       "      <td>45.918999</td>\n",
       "      <td>43.712502</td>\n",
       "      <td>35.947498</td>\n",
       "      <td>45.918999</td>\n",
       "      <td>43.712502</td>\n",
       "      <td>36.040001</td>\n",
       "      <td>46.092999</td>\n",
       "      <td>43.770000</td>\n",
       "      <td>35.827499</td>\n",
       "      <td>45.605499</td>\n",
       "      <td>43.519001</td>\n",
       "      <td>35.980000</td>\n",
       "      <td>45.719501</td>\n",
       "      <td>43.680000</td>\n",
       "      <td>56985200</td>\n",
       "      <td>106110000</td>\n",
       "      <td>40536000</td>\n",
       "    </tr>\n",
       "    <tr>\n",
       "      <th>2017-04-28</th>\n",
       "      <td>33.754433</td>\n",
       "      <td>46.249500</td>\n",
       "      <td>45.298000</td>\n",
       "      <td>35.912498</td>\n",
       "      <td>46.249500</td>\n",
       "      <td>45.298000</td>\n",
       "      <td>36.075001</td>\n",
       "      <td>47.479500</td>\n",
       "      <td>45.842499</td>\n",
       "      <td>35.817501</td>\n",
       "      <td>46.216499</td>\n",
       "      <td>45.288502</td>\n",
       "      <td>36.022499</td>\n",
       "      <td>47.441502</td>\n",
       "      <td>45.533001</td>\n",
       "      <td>83441600</td>\n",
       "      <td>147294000</td>\n",
       "      <td>65526000</td>\n",
       "    </tr>\n",
       "  </tbody>\n",
       "</table>\n",
       "<p>81 rows × 18 columns</p>\n",
       "</div>"
      ],
      "text/plain": [
       "            Adj Close                            Close                        \\\n",
       "                 AAPL       AMZN       GOOG       AAPL       AMZN       GOOG   \n",
       "Date                                                                           \n",
       "2017-01-03  27.174755  37.683498  39.306999  29.037500  37.683498  39.306999   \n",
       "2017-01-04  27.144339  37.859001  39.345001  29.004999  37.859001  39.345001   \n",
       "2017-01-05  27.282375  39.022499  39.701000  29.152500  39.022499  39.701000   \n",
       "2017-01-06  27.586527  39.799500  40.307499  29.477501  39.799500  40.307499   \n",
       "2017-01-09  27.839205  39.846001  40.332500  29.747499  39.846001  40.332500   \n",
       "...               ...        ...        ...        ...        ...        ...   \n",
       "2017-04-24  33.752087  45.370499  43.138000  35.910000  45.370499  43.138000   \n",
       "2017-04-25  33.961220  45.381001  43.615002  36.132500  45.381001  43.615002   \n",
       "2017-04-26  33.761494  45.464500  43.586498  35.919998  45.464500  43.586498   \n",
       "2017-04-27  33.787342  45.918999  43.712502  35.947498  45.918999  43.712502   \n",
       "2017-04-28  33.754433  46.249500  45.298000  35.912498  46.249500  45.298000   \n",
       "\n",
       "                 High                              Low                        \\\n",
       "                 AAPL       AMZN       GOOG       AAPL       AMZN       GOOG   \n",
       "Date                                                                           \n",
       "2017-01-03  29.082500  37.938000  39.481499  28.690001  37.384998  38.790001   \n",
       "2017-01-04  29.127501  37.984001  39.567001  28.937500  37.709999  39.158001   \n",
       "2017-01-05  29.215000  39.119999  39.723999  28.952499  38.013000  39.250999   \n",
       "2017-01-06  29.540001  39.972000  40.395000  29.117500  38.924000  39.610199   \n",
       "2017-01-09  29.857500  40.088501  40.498299  29.485001  39.588501  40.141499   \n",
       "...               ...        ...        ...        ...        ...        ...   \n",
       "2017-04-24  35.987499  45.499500  43.172501  35.794998  45.191002  42.493000   \n",
       "2017-04-25  36.224998  45.473999  43.750000  35.967499  45.150002  43.140499   \n",
       "2017-04-26  36.150002  45.787498  43.802502  35.845001  45.377998  43.387402   \n",
       "2017-04-27  36.040001  46.092999  43.770000  35.827499  45.605499  43.519001   \n",
       "2017-04-28  36.075001  47.479500  45.842499  35.817501  46.216499  45.288502   \n",
       "\n",
       "                 Open                           Volume                       \n",
       "                 AAPL       AMZN       GOOG       AAPL       AMZN      GOOG  \n",
       "Date                                                                         \n",
       "2017-01-03  28.950001  37.896000  38.940498  115127600   70422000  33146000  \n",
       "2017-01-04  28.962500  37.919498  39.417999   84472400   50210000  21460000  \n",
       "2017-01-05  28.980000  38.077499  39.304001   88774400  116602000  26704000  \n",
       "2017-01-06  29.195000  39.118000  39.763000  127007600  119724000  32804000  \n",
       "2017-01-09  29.487499  39.900002  40.320000  134247600   68922000  25492000  \n",
       "...               ...        ...        ...        ...        ...       ...  \n",
       "2017-04-24  35.875000  45.433998  42.560001   68537200   62458000  27450000  \n",
       "2017-04-25  35.977501  45.352001  43.250000   75486000   67612000  33440000  \n",
       "2017-04-26  36.117500  45.514999  43.711498   80164800   52178000  24744000  \n",
       "2017-04-27  35.980000  45.719501  43.680000   56985200  106110000  40536000  \n",
       "2017-04-28  36.022499  47.441502  45.533001   83441600  147294000  65526000  \n",
       "\n",
       "[81 rows x 18 columns]"
      ]
     },
     "execution_count": 19,
     "metadata": {},
     "output_type": "execute_result"
    }
   ],
   "source": [
    "data = yf.download(\"AMZN AAPL GOOG\", start=\"2017-01-01\", end=\"2017-04-30\") #group stocks\n",
    "data"
   ]
  },
  {
   "cell_type": "code",
   "execution_count": 23,
   "id": "4df29ebe",
   "metadata": {},
   "outputs": [
    {
     "name": "stdout",
     "output_type": "stream",
     "text": [
      "[*********************100%***********************]  3 of 3 completed\n"
     ]
    },
    {
     "data": {
      "text/html": [
       "<div>\n",
       "<style scoped>\n",
       "    .dataframe tbody tr th:only-of-type {\n",
       "        vertical-align: middle;\n",
       "    }\n",
       "\n",
       "    .dataframe tbody tr th {\n",
       "        vertical-align: top;\n",
       "    }\n",
       "\n",
       "    .dataframe thead tr th {\n",
       "        text-align: left;\n",
       "    }\n",
       "\n",
       "    .dataframe thead tr:last-of-type th {\n",
       "        text-align: right;\n",
       "    }\n",
       "</style>\n",
       "<table border=\"1\" class=\"dataframe\">\n",
       "  <thead>\n",
       "    <tr>\n",
       "      <th></th>\n",
       "      <th colspan=\"6\" halign=\"left\">GOOG</th>\n",
       "      <th colspan=\"6\" halign=\"left\">AMZN</th>\n",
       "      <th colspan=\"6\" halign=\"left\">AAPL</th>\n",
       "    </tr>\n",
       "    <tr>\n",
       "      <th></th>\n",
       "      <th>Open</th>\n",
       "      <th>High</th>\n",
       "      <th>Low</th>\n",
       "      <th>Close</th>\n",
       "      <th>Adj Close</th>\n",
       "      <th>Volume</th>\n",
       "      <th>Open</th>\n",
       "      <th>High</th>\n",
       "      <th>Low</th>\n",
       "      <th>Close</th>\n",
       "      <th>Adj Close</th>\n",
       "      <th>Volume</th>\n",
       "      <th>Open</th>\n",
       "      <th>High</th>\n",
       "      <th>Low</th>\n",
       "      <th>Close</th>\n",
       "      <th>Adj Close</th>\n",
       "      <th>Volume</th>\n",
       "    </tr>\n",
       "    <tr>\n",
       "      <th>Date</th>\n",
       "      <th></th>\n",
       "      <th></th>\n",
       "      <th></th>\n",
       "      <th></th>\n",
       "      <th></th>\n",
       "      <th></th>\n",
       "      <th></th>\n",
       "      <th></th>\n",
       "      <th></th>\n",
       "      <th></th>\n",
       "      <th></th>\n",
       "      <th></th>\n",
       "      <th></th>\n",
       "      <th></th>\n",
       "      <th></th>\n",
       "      <th></th>\n",
       "      <th></th>\n",
       "      <th></th>\n",
       "    </tr>\n",
       "  </thead>\n",
       "  <tbody>\n",
       "    <tr>\n",
       "      <th>2017-01-03</th>\n",
       "      <td>38.940498</td>\n",
       "      <td>39.481499</td>\n",
       "      <td>38.790001</td>\n",
       "      <td>39.306999</td>\n",
       "      <td>39.306999</td>\n",
       "      <td>33146000</td>\n",
       "      <td>37.896000</td>\n",
       "      <td>37.938000</td>\n",
       "      <td>37.384998</td>\n",
       "      <td>37.683498</td>\n",
       "      <td>37.683498</td>\n",
       "      <td>70422000</td>\n",
       "      <td>28.950001</td>\n",
       "      <td>29.082500</td>\n",
       "      <td>28.690001</td>\n",
       "      <td>29.037500</td>\n",
       "      <td>27.174757</td>\n",
       "      <td>115127600</td>\n",
       "    </tr>\n",
       "    <tr>\n",
       "      <th>2017-01-04</th>\n",
       "      <td>39.417999</td>\n",
       "      <td>39.567001</td>\n",
       "      <td>39.158001</td>\n",
       "      <td>39.345001</td>\n",
       "      <td>39.345001</td>\n",
       "      <td>21460000</td>\n",
       "      <td>37.919498</td>\n",
       "      <td>37.984001</td>\n",
       "      <td>37.709999</td>\n",
       "      <td>37.859001</td>\n",
       "      <td>37.859001</td>\n",
       "      <td>50210000</td>\n",
       "      <td>28.962500</td>\n",
       "      <td>29.127501</td>\n",
       "      <td>28.937500</td>\n",
       "      <td>29.004999</td>\n",
       "      <td>27.144342</td>\n",
       "      <td>84472400</td>\n",
       "    </tr>\n",
       "    <tr>\n",
       "      <th>2017-01-05</th>\n",
       "      <td>39.304001</td>\n",
       "      <td>39.723999</td>\n",
       "      <td>39.250999</td>\n",
       "      <td>39.701000</td>\n",
       "      <td>39.701000</td>\n",
       "      <td>26704000</td>\n",
       "      <td>38.077499</td>\n",
       "      <td>39.119999</td>\n",
       "      <td>38.013000</td>\n",
       "      <td>39.022499</td>\n",
       "      <td>39.022499</td>\n",
       "      <td>116602000</td>\n",
       "      <td>28.980000</td>\n",
       "      <td>29.215000</td>\n",
       "      <td>28.952499</td>\n",
       "      <td>29.152500</td>\n",
       "      <td>27.282377</td>\n",
       "      <td>88774400</td>\n",
       "    </tr>\n",
       "    <tr>\n",
       "      <th>2017-01-06</th>\n",
       "      <td>39.763000</td>\n",
       "      <td>40.395000</td>\n",
       "      <td>39.610199</td>\n",
       "      <td>40.307499</td>\n",
       "      <td>40.307499</td>\n",
       "      <td>32804000</td>\n",
       "      <td>39.118000</td>\n",
       "      <td>39.972000</td>\n",
       "      <td>38.924000</td>\n",
       "      <td>39.799500</td>\n",
       "      <td>39.799500</td>\n",
       "      <td>119724000</td>\n",
       "      <td>29.195000</td>\n",
       "      <td>29.540001</td>\n",
       "      <td>29.117500</td>\n",
       "      <td>29.477501</td>\n",
       "      <td>27.586527</td>\n",
       "      <td>127007600</td>\n",
       "    </tr>\n",
       "    <tr>\n",
       "      <th>2017-01-09</th>\n",
       "      <td>40.320000</td>\n",
       "      <td>40.498299</td>\n",
       "      <td>40.141499</td>\n",
       "      <td>40.332500</td>\n",
       "      <td>40.332500</td>\n",
       "      <td>25492000</td>\n",
       "      <td>39.900002</td>\n",
       "      <td>40.088501</td>\n",
       "      <td>39.588501</td>\n",
       "      <td>39.846001</td>\n",
       "      <td>39.846001</td>\n",
       "      <td>68922000</td>\n",
       "      <td>29.487499</td>\n",
       "      <td>29.857500</td>\n",
       "      <td>29.485001</td>\n",
       "      <td>29.747499</td>\n",
       "      <td>27.839203</td>\n",
       "      <td>134247600</td>\n",
       "    </tr>\n",
       "    <tr>\n",
       "      <th>...</th>\n",
       "      <td>...</td>\n",
       "      <td>...</td>\n",
       "      <td>...</td>\n",
       "      <td>...</td>\n",
       "      <td>...</td>\n",
       "      <td>...</td>\n",
       "      <td>...</td>\n",
       "      <td>...</td>\n",
       "      <td>...</td>\n",
       "      <td>...</td>\n",
       "      <td>...</td>\n",
       "      <td>...</td>\n",
       "      <td>...</td>\n",
       "      <td>...</td>\n",
       "      <td>...</td>\n",
       "      <td>...</td>\n",
       "      <td>...</td>\n",
       "      <td>...</td>\n",
       "    </tr>\n",
       "    <tr>\n",
       "      <th>2017-04-24</th>\n",
       "      <td>42.560001</td>\n",
       "      <td>43.172501</td>\n",
       "      <td>42.493000</td>\n",
       "      <td>43.138000</td>\n",
       "      <td>43.138000</td>\n",
       "      <td>27450000</td>\n",
       "      <td>45.433998</td>\n",
       "      <td>45.499500</td>\n",
       "      <td>45.191002</td>\n",
       "      <td>45.370499</td>\n",
       "      <td>45.370499</td>\n",
       "      <td>62458000</td>\n",
       "      <td>35.875000</td>\n",
       "      <td>35.987499</td>\n",
       "      <td>35.794998</td>\n",
       "      <td>35.910000</td>\n",
       "      <td>33.752098</td>\n",
       "      <td>68537200</td>\n",
       "    </tr>\n",
       "    <tr>\n",
       "      <th>2017-04-25</th>\n",
       "      <td>43.250000</td>\n",
       "      <td>43.750000</td>\n",
       "      <td>43.140499</td>\n",
       "      <td>43.615002</td>\n",
       "      <td>43.615002</td>\n",
       "      <td>33440000</td>\n",
       "      <td>45.352001</td>\n",
       "      <td>45.473999</td>\n",
       "      <td>45.150002</td>\n",
       "      <td>45.381001</td>\n",
       "      <td>45.381001</td>\n",
       "      <td>67612000</td>\n",
       "      <td>35.977501</td>\n",
       "      <td>36.224998</td>\n",
       "      <td>35.967499</td>\n",
       "      <td>36.132500</td>\n",
       "      <td>33.961224</td>\n",
       "      <td>75486000</td>\n",
       "    </tr>\n",
       "    <tr>\n",
       "      <th>2017-04-26</th>\n",
       "      <td>43.711498</td>\n",
       "      <td>43.802502</td>\n",
       "      <td>43.387402</td>\n",
       "      <td>43.586498</td>\n",
       "      <td>43.586498</td>\n",
       "      <td>24744000</td>\n",
       "      <td>45.514999</td>\n",
       "      <td>45.787498</td>\n",
       "      <td>45.377998</td>\n",
       "      <td>45.464500</td>\n",
       "      <td>45.464500</td>\n",
       "      <td>52178000</td>\n",
       "      <td>36.117500</td>\n",
       "      <td>36.150002</td>\n",
       "      <td>35.845001</td>\n",
       "      <td>35.919998</td>\n",
       "      <td>33.761478</td>\n",
       "      <td>80164800</td>\n",
       "    </tr>\n",
       "    <tr>\n",
       "      <th>2017-04-27</th>\n",
       "      <td>43.680000</td>\n",
       "      <td>43.770000</td>\n",
       "      <td>43.519001</td>\n",
       "      <td>43.712502</td>\n",
       "      <td>43.712502</td>\n",
       "      <td>40536000</td>\n",
       "      <td>45.719501</td>\n",
       "      <td>46.092999</td>\n",
       "      <td>45.605499</td>\n",
       "      <td>45.918999</td>\n",
       "      <td>45.918999</td>\n",
       "      <td>106110000</td>\n",
       "      <td>35.980000</td>\n",
       "      <td>36.040001</td>\n",
       "      <td>35.827499</td>\n",
       "      <td>35.947498</td>\n",
       "      <td>33.787331</td>\n",
       "      <td>56985200</td>\n",
       "    </tr>\n",
       "    <tr>\n",
       "      <th>2017-04-28</th>\n",
       "      <td>45.533001</td>\n",
       "      <td>45.842499</td>\n",
       "      <td>45.288502</td>\n",
       "      <td>45.298000</td>\n",
       "      <td>45.298000</td>\n",
       "      <td>65526000</td>\n",
       "      <td>47.441502</td>\n",
       "      <td>47.479500</td>\n",
       "      <td>46.216499</td>\n",
       "      <td>46.249500</td>\n",
       "      <td>46.249500</td>\n",
       "      <td>147294000</td>\n",
       "      <td>36.022499</td>\n",
       "      <td>36.075001</td>\n",
       "      <td>35.817501</td>\n",
       "      <td>35.912498</td>\n",
       "      <td>33.754440</td>\n",
       "      <td>83441600</td>\n",
       "    </tr>\n",
       "  </tbody>\n",
       "</table>\n",
       "<p>81 rows × 18 columns</p>\n",
       "</div>"
      ],
      "text/plain": [
       "                 GOOG                                                        \\\n",
       "                 Open       High        Low      Close  Adj Close    Volume   \n",
       "Date                                                                          \n",
       "2017-01-03  38.940498  39.481499  38.790001  39.306999  39.306999  33146000   \n",
       "2017-01-04  39.417999  39.567001  39.158001  39.345001  39.345001  21460000   \n",
       "2017-01-05  39.304001  39.723999  39.250999  39.701000  39.701000  26704000   \n",
       "2017-01-06  39.763000  40.395000  39.610199  40.307499  40.307499  32804000   \n",
       "2017-01-09  40.320000  40.498299  40.141499  40.332500  40.332500  25492000   \n",
       "...               ...        ...        ...        ...        ...       ...   \n",
       "2017-04-24  42.560001  43.172501  42.493000  43.138000  43.138000  27450000   \n",
       "2017-04-25  43.250000  43.750000  43.140499  43.615002  43.615002  33440000   \n",
       "2017-04-26  43.711498  43.802502  43.387402  43.586498  43.586498  24744000   \n",
       "2017-04-27  43.680000  43.770000  43.519001  43.712502  43.712502  40536000   \n",
       "2017-04-28  45.533001  45.842499  45.288502  45.298000  45.298000  65526000   \n",
       "\n",
       "                 AMZN                                                         \\\n",
       "                 Open       High        Low      Close  Adj Close     Volume   \n",
       "Date                                                                           \n",
       "2017-01-03  37.896000  37.938000  37.384998  37.683498  37.683498   70422000   \n",
       "2017-01-04  37.919498  37.984001  37.709999  37.859001  37.859001   50210000   \n",
       "2017-01-05  38.077499  39.119999  38.013000  39.022499  39.022499  116602000   \n",
       "2017-01-06  39.118000  39.972000  38.924000  39.799500  39.799500  119724000   \n",
       "2017-01-09  39.900002  40.088501  39.588501  39.846001  39.846001   68922000   \n",
       "...               ...        ...        ...        ...        ...        ...   \n",
       "2017-04-24  45.433998  45.499500  45.191002  45.370499  45.370499   62458000   \n",
       "2017-04-25  45.352001  45.473999  45.150002  45.381001  45.381001   67612000   \n",
       "2017-04-26  45.514999  45.787498  45.377998  45.464500  45.464500   52178000   \n",
       "2017-04-27  45.719501  46.092999  45.605499  45.918999  45.918999  106110000   \n",
       "2017-04-28  47.441502  47.479500  46.216499  46.249500  46.249500  147294000   \n",
       "\n",
       "                 AAPL                                                         \n",
       "                 Open       High        Low      Close  Adj Close     Volume  \n",
       "Date                                                                          \n",
       "2017-01-03  28.950001  29.082500  28.690001  29.037500  27.174757  115127600  \n",
       "2017-01-04  28.962500  29.127501  28.937500  29.004999  27.144342   84472400  \n",
       "2017-01-05  28.980000  29.215000  28.952499  29.152500  27.282377   88774400  \n",
       "2017-01-06  29.195000  29.540001  29.117500  29.477501  27.586527  127007600  \n",
       "2017-01-09  29.487499  29.857500  29.485001  29.747499  27.839203  134247600  \n",
       "...               ...        ...        ...        ...        ...        ...  \n",
       "2017-04-24  35.875000  35.987499  35.794998  35.910000  33.752098   68537200  \n",
       "2017-04-25  35.977501  36.224998  35.967499  36.132500  33.961224   75486000  \n",
       "2017-04-26  36.117500  36.150002  35.845001  35.919998  33.761478   80164800  \n",
       "2017-04-27  35.980000  36.040001  35.827499  35.947498  33.787331   56985200  \n",
       "2017-04-28  36.022499  36.075001  35.817501  35.912498  33.754440   83441600  \n",
       "\n",
       "[81 rows x 18 columns]"
      ]
     },
     "execution_count": 23,
     "metadata": {},
     "output_type": "execute_result"
    }
   ],
   "source": [
    "data = yf.download(\"AMZN AAPL GOOG\", start=\"2017-01-01\", # this code groups the stocks by the tickers\n",
    "                    end=\"2017-04-30\", group_by='tickers')\n",
    "data"
   ]
  },
  {
   "cell_type": "code",
   "execution_count": 37,
   "id": "a26fb04e",
   "metadata": {},
   "outputs": [
    {
     "name": "stdout",
     "output_type": "stream",
     "text": [
      "BTCUSDT price is 16851.96000000\n"
     ]
    }
   ],
   "source": [
    "# Import libraries\n",
    "import json\n",
    "import requests\n",
    "\n",
    "# defining key/request url\n",
    "key = \"https://api.binance.com/api/v3/ticker/price?symbol=BTCUSDT\"\n",
    "\n",
    "# requesting data from url\n",
    "data = requests.get(key)\n",
    "data = data.json()\n",
    "print(f\"{data['symbol']} price is {data['price']}\")"
   ]
  },
  {
   "cell_type": "code",
   "execution_count": 36,
   "id": "936ea921",
   "metadata": {},
   "outputs": [
    {
     "name": "stdout",
     "output_type": "stream",
     "text": [
      "BTCUSDT price is 16849.97000000\n",
      "DOGEUSDT price is 0.10338000\n",
      "LTCUSDT price is 77.30000000\n"
     ]
    }
   ],
   "source": [
    "# Import libraries\n",
    "import json\n",
    "import requests\n",
    "\n",
    "# Defining Binance API URL\n",
    "key = \"https://api.binance.com/api/v3/ticker/price?symbol=\"\n",
    "\n",
    "# Making list for multiple crypto's\n",
    "currencies = [\"BTCUSDT\", \"DOGEUSDT\", \"LTCUSDT\"]\n",
    "j = 0\n",
    "\n",
    "# running loop to print all crypto prices\n",
    "for i in currencies:\n",
    "\n",
    "# completing API for request\n",
    "    url = key+currencies[j]\n",
    "    data = requests.get(url)\n",
    "    data = data.json()\n",
    "    j = j+1\n",
    "    print(f\"{data['symbol']} price is {data['price']}\")"
   ]
  },
  {
   "cell_type": "code",
   "execution_count": 46,
   "id": "502fbc3b",
   "metadata": {
    "scrolled": false
   },
   "outputs": [
    {
     "name": "stdout",
     "output_type": "stream",
     "text": [
      "[*********************100%***********************]  1 of 1 completed\n"
     ]
    },
    {
     "data": {
      "application/vnd.plotly.v1+json": {
       "config": {
        "plotlyServerURL": "https://plot.ly"
       },
       "data": [
        {
         "close": [
          16458.619140625,
          16482.029296875,
          16492.81640625,
          16485.880859375,
          16478.556640625,
          16469.357421875,
          16484.345703125,
          16473.296875,
          16474.619140625,
          16485.513671875,
          16477.671875,
          16465.001953125,
          16460.443359375,
          16446.642578125,
          16450.66015625,
          16468.34375,
          16715.63671875,
          16837.3984375,
          16877.875,
          16859.205078125,
          16850.08203125,
          16887.310546875,
          16905.28515625,
          17020.80078125,
          17002.986328125,
          16978.125,
          16957.173828125,
          16944.125,
          16910.828125,
          16871.548828125,
          16886.451171875,
          16886.404296875,
          16868.349609375,
          16864.46875,
          16872.9609375,
          16894.611328125,
          16895.935546875,
          16885.85546875,
          16859.47265625,
          16863.650390625,
          16862.728515625,
          16868.162109375,
          16881.025390625,
          16878.25390625,
          16885.35546875,
          16897.638671875,
          16902.701171875,
          16900.0703125,
          16887.044921875,
          16895.072265625,
          16896.7109375,
          16869.37109375,
          16869.66796875,
          16877.01171875,
          16887.400390625,
          16890.705078125,
          16891.287109375,
          16880.123046875,
          16889.38671875,
          16893.763671875,
          16888.29296875,
          16887.109375,
          16884.916015625,
          16880.3046875,
          16859.326171875,
          16834.099609375,
          16814.10546875,
          16874.67578125,
          16832.50390625,
          16815.6171875,
          16831.923828125,
          16829.53515625,
          16847.498046875,
          16853.080078125,
          16847.208984375,
          16829.052734375,
          16849.279296875,
          16861,
          16877.181640625,
          16885.86328125,
          16882.2578125,
          16861.38671875,
          16855.033203125,
          16772.306640625,
          16781.962890625,
          16783.228515625
         ],
         "high": [
          16462.283203125,
          16482.029296875,
          16492.970703125,
          16491.66796875,
          16485.537109375,
          16478.28515625,
          16484.345703125,
          16483.58984375,
          16480.71484375,
          16485.513671875,
          16493.24609375,
          16474.970703125,
          16466.939453125,
          16461.796875,
          16464.572265625,
          16470.42578125,
          16715.63671875,
          16839.3125,
          16894.888671875,
          16894.13671875,
          16858.90625,
          16887.310546875,
          16928.248046875,
          17020.80078125,
          17021.669921875,
          17004.423828125,
          16975.634765625,
          16957.005859375,
          16937.4765625,
          16910.7890625,
          16888.388671875,
          16892.248046875,
          16886.935546875,
          16867.94921875,
          16875.71484375,
          16896.41796875,
          16901.818359375,
          16892.529296875,
          16884.904296875,
          16867.07421875,
          16867.8203125,
          16868.162109375,
          16881.025390625,
          16884.466796875,
          16885.35546875,
          16901.015625,
          16902.701171875,
          16911.666015625,
          16902.083984375,
          16903.275390625,
          16901.78125,
          16897.32421875,
          16871.162109375,
          16877.01171875,
          16887.400390625,
          16892.291015625,
          16892.6640625,
          16891.15234375,
          16889.38671875,
          16896.546875,
          16897.91796875,
          16888.86328125,
          16886.68359375,
          16886.38671875,
          16881.212890625,
          16861.94140625,
          16831.609375,
          16876,
          16877.53515625,
          16828.845703125,
          16834.23046875,
          16838.875,
          16851.107421875,
          16853.080078125,
          16852.650390625,
          16847.240234375,
          16849.279296875,
          16861.029296875,
          16877.181640625,
          16885.86328125,
          16887.40625,
          16877.244140625,
          16873.98828125,
          16854.869140625,
          16782.9140625,
          16783.228515625
         ],
         "low": [
          16458.619140625,
          16459.763671875,
          16483.630859375,
          16485.51953125,
          16476.583984375,
          16469.154296875,
          16468.42578125,
          16467.119140625,
          16473.91015625,
          16473.423828125,
          16476.201171875,
          16464.5703125,
          16459.482421875,
          16446.224609375,
          16445.4765625,
          16446.158203125,
          16463.251953125,
          16734.41796875,
          16835.572265625,
          16859.205078125,
          16850.08203125,
          16848.6953125,
          16884.76953125,
          16902.525390625,
          17002.986328125,
          16978.125,
          16956.6171875,
          16943.0390625,
          16910.828125,
          16871.548828125,
          16867.171875,
          16885.615234375,
          16868.349609375,
          16845.326171875,
          16868.015625,
          16874.54296875,
          16895.935546875,
          16876.0234375,
          16856.765625,
          16859.06640625,
          16861.1328125,
          16855.08984375,
          16866.521484375,
          16877.99609375,
          16877.783203125,
          16886.041015625,
          16887.26171875,
          16898.912109375,
          16886.759765625,
          16887.89453125,
          16894.646484375,
          16869.37109375,
          16865.3203125,
          16870.791015625,
          16877.126953125,
          16887.943359375,
          16886.939453125,
          16880.123046875,
          16878.0078125,
          16888.626953125,
          16888.29296875,
          16881.759765625,
          16880.46484375,
          16877.38671875,
          16850.462890625,
          16834.099609375,
          16808.4375,
          16824.123046875,
          16823.8515625,
          16812.5078125,
          16813.42578125,
          16829.53515625,
          16829.376953125,
          16843.5859375,
          16825.234375,
          16829.052734375,
          16830.52734375,
          16850.66796875,
          16856.484375,
          16876.052734375,
          16880.5078125,
          16857.921875,
          16855.033203125,
          16768.498046875,
          16774.1640625,
          16783.228515625
         ],
         "name": "market data",
         "open": [
          16460.490234375,
          16459.763671875,
          16485.904296875,
          16491.66796875,
          16485.537109375,
          16478.091796875,
          16468.474609375,
          16483.58984375,
          16474.546875,
          16474.19921875,
          16486.19140625,
          16474.970703125,
          16465.2109375,
          16459.796875,
          16445.4765625,
          16447.4375,
          16463.251953125,
          16734.41796875,
          16835.572265625,
          16880.701171875,
          16858.90625,
          16850.15625,
          16885.638671875,
          16906.330078125,
          17021.669921875,
          17003.689453125,
          16975.634765625,
          16957.005859375,
          16937.4765625,
          16910.7890625,
          16870.712890625,
          16887.673828125,
          16886.181640625,
          16867.94921875,
          16868.015625,
          16875.69921875,
          16896.185546875,
          16892.529296875,
          16884.904296875,
          16859.982421875,
          16864.10546875,
          16864.0390625,
          16867.48046875,
          16879.251953125,
          16878.9609375,
          16886.205078125,
          16896.90625,
          16903.248046875,
          16901.6875,
          16887.89453125,
          16896.138671875,
          16897.32421875,
          16870.3515625,
          16870.791015625,
          16877.126953125,
          16887.943359375,
          16890.865234375,
          16891.15234375,
          16879.78125,
          16888.626953125,
          16893.841796875,
          16888.86328125,
          16886.68359375,
          16885.599609375,
          16881.212890625,
          16859.498046875,
          16831.609375,
          16824.123046875,
          16873.369140625,
          16828.845703125,
          16813.42578125,
          16832.38671875,
          16829.376953125,
          16846.4609375,
          16852.650390625,
          16847.240234375,
          16830.52734375,
          16850.66796875,
          16862.6171875,
          16876.640625,
          16883.865234375,
          16877.244140625,
          16863.712890625,
          16854.869140625,
          16774.1640625,
          16783.228515625
         ],
         "type": "candlestick",
         "x": [
          "2022-11-29T20:30:00",
          "2022-11-29T20:45:00",
          "2022-11-29T21:00:00",
          "2022-11-29T21:15:00",
          "2022-11-29T21:30:00",
          "2022-11-29T21:45:00",
          "2022-11-29T22:00:00",
          "2022-11-29T22:15:00",
          "2022-11-29T22:30:00",
          "2022-11-29T22:45:00",
          "2022-11-29T23:00:00",
          "2022-11-29T23:15:00",
          "2022-11-29T23:30:00",
          "2022-11-29T23:45:00",
          "2022-11-30T00:00:00",
          "2022-11-30T00:15:00",
          "2022-11-30T00:30:00",
          "2022-11-30T00:45:00",
          "2022-11-30T01:00:00",
          "2022-11-30T01:15:00",
          "2022-11-30T01:30:00",
          "2022-11-30T01:45:00",
          "2022-11-30T02:00:00",
          "2022-11-30T02:15:00",
          "2022-11-30T02:30:00",
          "2022-11-30T02:45:00",
          "2022-11-30T03:00:00",
          "2022-11-30T03:15:00",
          "2022-11-30T03:30:00",
          "2022-11-30T03:45:00",
          "2022-11-30T04:00:00",
          "2022-11-30T04:15:00",
          "2022-11-30T04:30:00",
          "2022-11-30T04:45:00",
          "2022-11-30T05:00:00",
          "2022-11-30T05:15:00",
          "2022-11-30T05:30:00",
          "2022-11-30T05:45:00",
          "2022-11-30T06:00:00",
          "2022-11-30T06:15:00",
          "2022-11-30T06:30:00",
          "2022-11-30T06:45:00",
          "2022-11-30T07:00:00",
          "2022-11-30T07:15:00",
          "2022-11-30T07:30:00",
          "2022-11-30T07:45:00",
          "2022-11-30T08:00:00",
          "2022-11-30T08:15:00",
          "2022-11-30T08:30:00",
          "2022-11-30T08:45:00",
          "2022-11-30T09:00:00",
          "2022-11-30T09:15:00",
          "2022-11-30T09:30:00",
          "2022-11-30T09:45:00",
          "2022-11-30T10:00:00",
          "2022-11-30T10:15:00",
          "2022-11-30T10:30:00",
          "2022-11-30T10:45:00",
          "2022-11-30T11:00:00",
          "2022-11-30T11:15:00",
          "2022-11-30T11:30:00",
          "2022-11-30T11:45:00",
          "2022-11-30T12:00:00",
          "2022-11-30T12:15:00",
          "2022-11-30T12:30:00",
          "2022-11-30T12:45:00",
          "2022-11-30T13:00:00",
          "2022-11-30T13:15:00",
          "2022-11-30T13:30:00",
          "2022-11-30T13:45:00",
          "2022-11-30T14:00:00",
          "2022-11-30T14:15:00",
          "2022-11-30T14:30:00",
          "2022-11-30T14:45:00",
          "2022-11-30T15:00:00",
          "2022-11-30T15:15:00",
          "2022-11-30T15:30:00",
          "2022-11-30T15:45:00",
          "2022-11-30T16:00:00",
          "2022-11-30T16:15:00",
          "2022-11-30T16:30:00",
          "2022-11-30T16:45:00",
          "2022-11-30T17:00:00",
          "2022-11-30T17:15:00",
          "2022-11-30T17:30:00",
          "2022-11-30T17:39:00"
         ]
        }
       ],
       "layout": {
        "template": {
         "data": {
          "bar": [
           {
            "error_x": {
             "color": "#2a3f5f"
            },
            "error_y": {
             "color": "#2a3f5f"
            },
            "marker": {
             "line": {
              "color": "#E5ECF6",
              "width": 0.5
             },
             "pattern": {
              "fillmode": "overlay",
              "size": 10,
              "solidity": 0.2
             }
            },
            "type": "bar"
           }
          ],
          "barpolar": [
           {
            "marker": {
             "line": {
              "color": "#E5ECF6",
              "width": 0.5
             },
             "pattern": {
              "fillmode": "overlay",
              "size": 10,
              "solidity": 0.2
             }
            },
            "type": "barpolar"
           }
          ],
          "carpet": [
           {
            "aaxis": {
             "endlinecolor": "#2a3f5f",
             "gridcolor": "white",
             "linecolor": "white",
             "minorgridcolor": "white",
             "startlinecolor": "#2a3f5f"
            },
            "baxis": {
             "endlinecolor": "#2a3f5f",
             "gridcolor": "white",
             "linecolor": "white",
             "minorgridcolor": "white",
             "startlinecolor": "#2a3f5f"
            },
            "type": "carpet"
           }
          ],
          "choropleth": [
           {
            "colorbar": {
             "outlinewidth": 0,
             "ticks": ""
            },
            "type": "choropleth"
           }
          ],
          "contour": [
           {
            "colorbar": {
             "outlinewidth": 0,
             "ticks": ""
            },
            "colorscale": [
             [
              0,
              "#0d0887"
             ],
             [
              0.1111111111111111,
              "#46039f"
             ],
             [
              0.2222222222222222,
              "#7201a8"
             ],
             [
              0.3333333333333333,
              "#9c179e"
             ],
             [
              0.4444444444444444,
              "#bd3786"
             ],
             [
              0.5555555555555556,
              "#d8576b"
             ],
             [
              0.6666666666666666,
              "#ed7953"
             ],
             [
              0.7777777777777778,
              "#fb9f3a"
             ],
             [
              0.8888888888888888,
              "#fdca26"
             ],
             [
              1,
              "#f0f921"
             ]
            ],
            "type": "contour"
           }
          ],
          "contourcarpet": [
           {
            "colorbar": {
             "outlinewidth": 0,
             "ticks": ""
            },
            "type": "contourcarpet"
           }
          ],
          "heatmap": [
           {
            "colorbar": {
             "outlinewidth": 0,
             "ticks": ""
            },
            "colorscale": [
             [
              0,
              "#0d0887"
             ],
             [
              0.1111111111111111,
              "#46039f"
             ],
             [
              0.2222222222222222,
              "#7201a8"
             ],
             [
              0.3333333333333333,
              "#9c179e"
             ],
             [
              0.4444444444444444,
              "#bd3786"
             ],
             [
              0.5555555555555556,
              "#d8576b"
             ],
             [
              0.6666666666666666,
              "#ed7953"
             ],
             [
              0.7777777777777778,
              "#fb9f3a"
             ],
             [
              0.8888888888888888,
              "#fdca26"
             ],
             [
              1,
              "#f0f921"
             ]
            ],
            "type": "heatmap"
           }
          ],
          "heatmapgl": [
           {
            "colorbar": {
             "outlinewidth": 0,
             "ticks": ""
            },
            "colorscale": [
             [
              0,
              "#0d0887"
             ],
             [
              0.1111111111111111,
              "#46039f"
             ],
             [
              0.2222222222222222,
              "#7201a8"
             ],
             [
              0.3333333333333333,
              "#9c179e"
             ],
             [
              0.4444444444444444,
              "#bd3786"
             ],
             [
              0.5555555555555556,
              "#d8576b"
             ],
             [
              0.6666666666666666,
              "#ed7953"
             ],
             [
              0.7777777777777778,
              "#fb9f3a"
             ],
             [
              0.8888888888888888,
              "#fdca26"
             ],
             [
              1,
              "#f0f921"
             ]
            ],
            "type": "heatmapgl"
           }
          ],
          "histogram": [
           {
            "marker": {
             "pattern": {
              "fillmode": "overlay",
              "size": 10,
              "solidity": 0.2
             }
            },
            "type": "histogram"
           }
          ],
          "histogram2d": [
           {
            "colorbar": {
             "outlinewidth": 0,
             "ticks": ""
            },
            "colorscale": [
             [
              0,
              "#0d0887"
             ],
             [
              0.1111111111111111,
              "#46039f"
             ],
             [
              0.2222222222222222,
              "#7201a8"
             ],
             [
              0.3333333333333333,
              "#9c179e"
             ],
             [
              0.4444444444444444,
              "#bd3786"
             ],
             [
              0.5555555555555556,
              "#d8576b"
             ],
             [
              0.6666666666666666,
              "#ed7953"
             ],
             [
              0.7777777777777778,
              "#fb9f3a"
             ],
             [
              0.8888888888888888,
              "#fdca26"
             ],
             [
              1,
              "#f0f921"
             ]
            ],
            "type": "histogram2d"
           }
          ],
          "histogram2dcontour": [
           {
            "colorbar": {
             "outlinewidth": 0,
             "ticks": ""
            },
            "colorscale": [
             [
              0,
              "#0d0887"
             ],
             [
              0.1111111111111111,
              "#46039f"
             ],
             [
              0.2222222222222222,
              "#7201a8"
             ],
             [
              0.3333333333333333,
              "#9c179e"
             ],
             [
              0.4444444444444444,
              "#bd3786"
             ],
             [
              0.5555555555555556,
              "#d8576b"
             ],
             [
              0.6666666666666666,
              "#ed7953"
             ],
             [
              0.7777777777777778,
              "#fb9f3a"
             ],
             [
              0.8888888888888888,
              "#fdca26"
             ],
             [
              1,
              "#f0f921"
             ]
            ],
            "type": "histogram2dcontour"
           }
          ],
          "mesh3d": [
           {
            "colorbar": {
             "outlinewidth": 0,
             "ticks": ""
            },
            "type": "mesh3d"
           }
          ],
          "parcoords": [
           {
            "line": {
             "colorbar": {
              "outlinewidth": 0,
              "ticks": ""
             }
            },
            "type": "parcoords"
           }
          ],
          "pie": [
           {
            "automargin": true,
            "type": "pie"
           }
          ],
          "scatter": [
           {
            "marker": {
             "colorbar": {
              "outlinewidth": 0,
              "ticks": ""
             }
            },
            "type": "scatter"
           }
          ],
          "scatter3d": [
           {
            "line": {
             "colorbar": {
              "outlinewidth": 0,
              "ticks": ""
             }
            },
            "marker": {
             "colorbar": {
              "outlinewidth": 0,
              "ticks": ""
             }
            },
            "type": "scatter3d"
           }
          ],
          "scattercarpet": [
           {
            "marker": {
             "colorbar": {
              "outlinewidth": 0,
              "ticks": ""
             }
            },
            "type": "scattercarpet"
           }
          ],
          "scattergeo": [
           {
            "marker": {
             "colorbar": {
              "outlinewidth": 0,
              "ticks": ""
             }
            },
            "type": "scattergeo"
           }
          ],
          "scattergl": [
           {
            "marker": {
             "colorbar": {
              "outlinewidth": 0,
              "ticks": ""
             }
            },
            "type": "scattergl"
           }
          ],
          "scattermapbox": [
           {
            "marker": {
             "colorbar": {
              "outlinewidth": 0,
              "ticks": ""
             }
            },
            "type": "scattermapbox"
           }
          ],
          "scatterpolar": [
           {
            "marker": {
             "colorbar": {
              "outlinewidth": 0,
              "ticks": ""
             }
            },
            "type": "scatterpolar"
           }
          ],
          "scatterpolargl": [
           {
            "marker": {
             "colorbar": {
              "outlinewidth": 0,
              "ticks": ""
             }
            },
            "type": "scatterpolargl"
           }
          ],
          "scatterternary": [
           {
            "marker": {
             "colorbar": {
              "outlinewidth": 0,
              "ticks": ""
             }
            },
            "type": "scatterternary"
           }
          ],
          "surface": [
           {
            "colorbar": {
             "outlinewidth": 0,
             "ticks": ""
            },
            "colorscale": [
             [
              0,
              "#0d0887"
             ],
             [
              0.1111111111111111,
              "#46039f"
             ],
             [
              0.2222222222222222,
              "#7201a8"
             ],
             [
              0.3333333333333333,
              "#9c179e"
             ],
             [
              0.4444444444444444,
              "#bd3786"
             ],
             [
              0.5555555555555556,
              "#d8576b"
             ],
             [
              0.6666666666666666,
              "#ed7953"
             ],
             [
              0.7777777777777778,
              "#fb9f3a"
             ],
             [
              0.8888888888888888,
              "#fdca26"
             ],
             [
              1,
              "#f0f921"
             ]
            ],
            "type": "surface"
           }
          ],
          "table": [
           {
            "cells": {
             "fill": {
              "color": "#EBF0F8"
             },
             "line": {
              "color": "white"
             }
            },
            "header": {
             "fill": {
              "color": "#C8D4E3"
             },
             "line": {
              "color": "white"
             }
            },
            "type": "table"
           }
          ]
         },
         "layout": {
          "annotationdefaults": {
           "arrowcolor": "#2a3f5f",
           "arrowhead": 0,
           "arrowwidth": 1
          },
          "autotypenumbers": "strict",
          "coloraxis": {
           "colorbar": {
            "outlinewidth": 0,
            "ticks": ""
           }
          },
          "colorscale": {
           "diverging": [
            [
             0,
             "#8e0152"
            ],
            [
             0.1,
             "#c51b7d"
            ],
            [
             0.2,
             "#de77ae"
            ],
            [
             0.3,
             "#f1b6da"
            ],
            [
             0.4,
             "#fde0ef"
            ],
            [
             0.5,
             "#f7f7f7"
            ],
            [
             0.6,
             "#e6f5d0"
            ],
            [
             0.7,
             "#b8e186"
            ],
            [
             0.8,
             "#7fbc41"
            ],
            [
             0.9,
             "#4d9221"
            ],
            [
             1,
             "#276419"
            ]
           ],
           "sequential": [
            [
             0,
             "#0d0887"
            ],
            [
             0.1111111111111111,
             "#46039f"
            ],
            [
             0.2222222222222222,
             "#7201a8"
            ],
            [
             0.3333333333333333,
             "#9c179e"
            ],
            [
             0.4444444444444444,
             "#bd3786"
            ],
            [
             0.5555555555555556,
             "#d8576b"
            ],
            [
             0.6666666666666666,
             "#ed7953"
            ],
            [
             0.7777777777777778,
             "#fb9f3a"
            ],
            [
             0.8888888888888888,
             "#fdca26"
            ],
            [
             1,
             "#f0f921"
            ]
           ],
           "sequentialminus": [
            [
             0,
             "#0d0887"
            ],
            [
             0.1111111111111111,
             "#46039f"
            ],
            [
             0.2222222222222222,
             "#7201a8"
            ],
            [
             0.3333333333333333,
             "#9c179e"
            ],
            [
             0.4444444444444444,
             "#bd3786"
            ],
            [
             0.5555555555555556,
             "#d8576b"
            ],
            [
             0.6666666666666666,
             "#ed7953"
            ],
            [
             0.7777777777777778,
             "#fb9f3a"
            ],
            [
             0.8888888888888888,
             "#fdca26"
            ],
            [
             1,
             "#f0f921"
            ]
           ]
          },
          "colorway": [
           "#636efa",
           "#EF553B",
           "#00cc96",
           "#ab63fa",
           "#FFA15A",
           "#19d3f3",
           "#FF6692",
           "#B6E880",
           "#FF97FF",
           "#FECB52"
          ],
          "font": {
           "color": "#2a3f5f"
          },
          "geo": {
           "bgcolor": "white",
           "lakecolor": "white",
           "landcolor": "#E5ECF6",
           "showlakes": true,
           "showland": true,
           "subunitcolor": "white"
          },
          "hoverlabel": {
           "align": "left"
          },
          "hovermode": "closest",
          "mapbox": {
           "style": "light"
          },
          "paper_bgcolor": "white",
          "plot_bgcolor": "#E5ECF6",
          "polar": {
           "angularaxis": {
            "gridcolor": "white",
            "linecolor": "white",
            "ticks": ""
           },
           "bgcolor": "#E5ECF6",
           "radialaxis": {
            "gridcolor": "white",
            "linecolor": "white",
            "ticks": ""
           }
          },
          "scene": {
           "xaxis": {
            "backgroundcolor": "#E5ECF6",
            "gridcolor": "white",
            "gridwidth": 2,
            "linecolor": "white",
            "showbackground": true,
            "ticks": "",
            "zerolinecolor": "white"
           },
           "yaxis": {
            "backgroundcolor": "#E5ECF6",
            "gridcolor": "white",
            "gridwidth": 2,
            "linecolor": "white",
            "showbackground": true,
            "ticks": "",
            "zerolinecolor": "white"
           },
           "zaxis": {
            "backgroundcolor": "#E5ECF6",
            "gridcolor": "white",
            "gridwidth": 2,
            "linecolor": "white",
            "showbackground": true,
            "ticks": "",
            "zerolinecolor": "white"
           }
          },
          "shapedefaults": {
           "line": {
            "color": "#2a3f5f"
           }
          },
          "ternary": {
           "aaxis": {
            "gridcolor": "white",
            "linecolor": "white",
            "ticks": ""
           },
           "baxis": {
            "gridcolor": "white",
            "linecolor": "white",
            "ticks": ""
           },
           "bgcolor": "#E5ECF6",
           "caxis": {
            "gridcolor": "white",
            "linecolor": "white",
            "ticks": ""
           }
          },
          "title": {
           "x": 0.05
          },
          "xaxis": {
           "automargin": true,
           "gridcolor": "white",
           "linecolor": "white",
           "ticks": "",
           "title": {
            "standoff": 15
           },
           "zerolinecolor": "white",
           "zerolinewidth": 2
          },
          "yaxis": {
           "automargin": true,
           "gridcolor": "white",
           "linecolor": "white",
           "ticks": "",
           "title": {
            "standoff": 15
           },
           "zerolinecolor": "white",
           "zerolinewidth": 2
          }
         }
        },
        "title": {
         "text": "Bitcoin live share price evolution"
        },
        "xaxis": {
         "rangeselector": {
          "buttons": [
           {
            "count": 15,
            "label": "15m",
            "step": "minute",
            "stepmode": "backward"
           },
           {
            "count": 45,
            "label": "45m",
            "step": "minute",
            "stepmode": "backward"
           },
           {
            "count": 1,
            "label": "HTD",
            "step": "hour",
            "stepmode": "todate"
           },
           {
            "count": 6,
            "label": "6h",
            "step": "hour",
            "stepmode": "backward"
           },
           {
            "step": "all"
           }
          ]
         },
         "rangeslider": {
          "visible": true
         }
        },
        "yaxis": {
         "title": {
          "text": "Bitcoin Price (US Dollars)"
         }
        }
       }
      },
      "text/html": [
       "<div>                            <div id=\"4e9a34e4-b986-4781-80fa-91d51a2e93fe\" class=\"plotly-graph-div\" style=\"height:525px; width:100%;\"></div>            <script type=\"text/javascript\">                require([\"plotly\"], function(Plotly) {                    window.PLOTLYENV=window.PLOTLYENV || {};                                    if (document.getElementById(\"4e9a34e4-b986-4781-80fa-91d51a2e93fe\")) {                    Plotly.newPlot(                        \"4e9a34e4-b986-4781-80fa-91d51a2e93fe\",                        [{\"close\":[16458.619140625,16482.029296875,16492.81640625,16485.880859375,16478.556640625,16469.357421875,16484.345703125,16473.296875,16474.619140625,16485.513671875,16477.671875,16465.001953125,16460.443359375,16446.642578125,16450.66015625,16468.34375,16715.63671875,16837.3984375,16877.875,16859.205078125,16850.08203125,16887.310546875,16905.28515625,17020.80078125,17002.986328125,16978.125,16957.173828125,16944.125,16910.828125,16871.548828125,16886.451171875,16886.404296875,16868.349609375,16864.46875,16872.9609375,16894.611328125,16895.935546875,16885.85546875,16859.47265625,16863.650390625,16862.728515625,16868.162109375,16881.025390625,16878.25390625,16885.35546875,16897.638671875,16902.701171875,16900.0703125,16887.044921875,16895.072265625,16896.7109375,16869.37109375,16869.66796875,16877.01171875,16887.400390625,16890.705078125,16891.287109375,16880.123046875,16889.38671875,16893.763671875,16888.29296875,16887.109375,16884.916015625,16880.3046875,16859.326171875,16834.099609375,16814.10546875,16874.67578125,16832.50390625,16815.6171875,16831.923828125,16829.53515625,16847.498046875,16853.080078125,16847.208984375,16829.052734375,16849.279296875,16861.0,16877.181640625,16885.86328125,16882.2578125,16861.38671875,16855.033203125,16772.306640625,16781.962890625,16783.228515625],\"high\":[16462.283203125,16482.029296875,16492.970703125,16491.66796875,16485.537109375,16478.28515625,16484.345703125,16483.58984375,16480.71484375,16485.513671875,16493.24609375,16474.970703125,16466.939453125,16461.796875,16464.572265625,16470.42578125,16715.63671875,16839.3125,16894.888671875,16894.13671875,16858.90625,16887.310546875,16928.248046875,17020.80078125,17021.669921875,17004.423828125,16975.634765625,16957.005859375,16937.4765625,16910.7890625,16888.388671875,16892.248046875,16886.935546875,16867.94921875,16875.71484375,16896.41796875,16901.818359375,16892.529296875,16884.904296875,16867.07421875,16867.8203125,16868.162109375,16881.025390625,16884.466796875,16885.35546875,16901.015625,16902.701171875,16911.666015625,16902.083984375,16903.275390625,16901.78125,16897.32421875,16871.162109375,16877.01171875,16887.400390625,16892.291015625,16892.6640625,16891.15234375,16889.38671875,16896.546875,16897.91796875,16888.86328125,16886.68359375,16886.38671875,16881.212890625,16861.94140625,16831.609375,16876.0,16877.53515625,16828.845703125,16834.23046875,16838.875,16851.107421875,16853.080078125,16852.650390625,16847.240234375,16849.279296875,16861.029296875,16877.181640625,16885.86328125,16887.40625,16877.244140625,16873.98828125,16854.869140625,16782.9140625,16783.228515625],\"low\":[16458.619140625,16459.763671875,16483.630859375,16485.51953125,16476.583984375,16469.154296875,16468.42578125,16467.119140625,16473.91015625,16473.423828125,16476.201171875,16464.5703125,16459.482421875,16446.224609375,16445.4765625,16446.158203125,16463.251953125,16734.41796875,16835.572265625,16859.205078125,16850.08203125,16848.6953125,16884.76953125,16902.525390625,17002.986328125,16978.125,16956.6171875,16943.0390625,16910.828125,16871.548828125,16867.171875,16885.615234375,16868.349609375,16845.326171875,16868.015625,16874.54296875,16895.935546875,16876.0234375,16856.765625,16859.06640625,16861.1328125,16855.08984375,16866.521484375,16877.99609375,16877.783203125,16886.041015625,16887.26171875,16898.912109375,16886.759765625,16887.89453125,16894.646484375,16869.37109375,16865.3203125,16870.791015625,16877.126953125,16887.943359375,16886.939453125,16880.123046875,16878.0078125,16888.626953125,16888.29296875,16881.759765625,16880.46484375,16877.38671875,16850.462890625,16834.099609375,16808.4375,16824.123046875,16823.8515625,16812.5078125,16813.42578125,16829.53515625,16829.376953125,16843.5859375,16825.234375,16829.052734375,16830.52734375,16850.66796875,16856.484375,16876.052734375,16880.5078125,16857.921875,16855.033203125,16768.498046875,16774.1640625,16783.228515625],\"name\":\"market data\",\"open\":[16460.490234375,16459.763671875,16485.904296875,16491.66796875,16485.537109375,16478.091796875,16468.474609375,16483.58984375,16474.546875,16474.19921875,16486.19140625,16474.970703125,16465.2109375,16459.796875,16445.4765625,16447.4375,16463.251953125,16734.41796875,16835.572265625,16880.701171875,16858.90625,16850.15625,16885.638671875,16906.330078125,17021.669921875,17003.689453125,16975.634765625,16957.005859375,16937.4765625,16910.7890625,16870.712890625,16887.673828125,16886.181640625,16867.94921875,16868.015625,16875.69921875,16896.185546875,16892.529296875,16884.904296875,16859.982421875,16864.10546875,16864.0390625,16867.48046875,16879.251953125,16878.9609375,16886.205078125,16896.90625,16903.248046875,16901.6875,16887.89453125,16896.138671875,16897.32421875,16870.3515625,16870.791015625,16877.126953125,16887.943359375,16890.865234375,16891.15234375,16879.78125,16888.626953125,16893.841796875,16888.86328125,16886.68359375,16885.599609375,16881.212890625,16859.498046875,16831.609375,16824.123046875,16873.369140625,16828.845703125,16813.42578125,16832.38671875,16829.376953125,16846.4609375,16852.650390625,16847.240234375,16830.52734375,16850.66796875,16862.6171875,16876.640625,16883.865234375,16877.244140625,16863.712890625,16854.869140625,16774.1640625,16783.228515625],\"x\":[\"2022-11-29T20:30:00\",\"2022-11-29T20:45:00\",\"2022-11-29T21:00:00\",\"2022-11-29T21:15:00\",\"2022-11-29T21:30:00\",\"2022-11-29T21:45:00\",\"2022-11-29T22:00:00\",\"2022-11-29T22:15:00\",\"2022-11-29T22:30:00\",\"2022-11-29T22:45:00\",\"2022-11-29T23:00:00\",\"2022-11-29T23:15:00\",\"2022-11-29T23:30:00\",\"2022-11-29T23:45:00\",\"2022-11-30T00:00:00\",\"2022-11-30T00:15:00\",\"2022-11-30T00:30:00\",\"2022-11-30T00:45:00\",\"2022-11-30T01:00:00\",\"2022-11-30T01:15:00\",\"2022-11-30T01:30:00\",\"2022-11-30T01:45:00\",\"2022-11-30T02:00:00\",\"2022-11-30T02:15:00\",\"2022-11-30T02:30:00\",\"2022-11-30T02:45:00\",\"2022-11-30T03:00:00\",\"2022-11-30T03:15:00\",\"2022-11-30T03:30:00\",\"2022-11-30T03:45:00\",\"2022-11-30T04:00:00\",\"2022-11-30T04:15:00\",\"2022-11-30T04:30:00\",\"2022-11-30T04:45:00\",\"2022-11-30T05:00:00\",\"2022-11-30T05:15:00\",\"2022-11-30T05:30:00\",\"2022-11-30T05:45:00\",\"2022-11-30T06:00:00\",\"2022-11-30T06:15:00\",\"2022-11-30T06:30:00\",\"2022-11-30T06:45:00\",\"2022-11-30T07:00:00\",\"2022-11-30T07:15:00\",\"2022-11-30T07:30:00\",\"2022-11-30T07:45:00\",\"2022-11-30T08:00:00\",\"2022-11-30T08:15:00\",\"2022-11-30T08:30:00\",\"2022-11-30T08:45:00\",\"2022-11-30T09:00:00\",\"2022-11-30T09:15:00\",\"2022-11-30T09:30:00\",\"2022-11-30T09:45:00\",\"2022-11-30T10:00:00\",\"2022-11-30T10:15:00\",\"2022-11-30T10:30:00\",\"2022-11-30T10:45:00\",\"2022-11-30T11:00:00\",\"2022-11-30T11:15:00\",\"2022-11-30T11:30:00\",\"2022-11-30T11:45:00\",\"2022-11-30T12:00:00\",\"2022-11-30T12:15:00\",\"2022-11-30T12:30:00\",\"2022-11-30T12:45:00\",\"2022-11-30T13:00:00\",\"2022-11-30T13:15:00\",\"2022-11-30T13:30:00\",\"2022-11-30T13:45:00\",\"2022-11-30T14:00:00\",\"2022-11-30T14:15:00\",\"2022-11-30T14:30:00\",\"2022-11-30T14:45:00\",\"2022-11-30T15:00:00\",\"2022-11-30T15:15:00\",\"2022-11-30T15:30:00\",\"2022-11-30T15:45:00\",\"2022-11-30T16:00:00\",\"2022-11-30T16:15:00\",\"2022-11-30T16:30:00\",\"2022-11-30T16:45:00\",\"2022-11-30T17:00:00\",\"2022-11-30T17:15:00\",\"2022-11-30T17:30:00\",\"2022-11-30T17:39:00\"],\"type\":\"candlestick\"}],                        {\"template\":{\"data\":{\"bar\":[{\"error_x\":{\"color\":\"#2a3f5f\"},\"error_y\":{\"color\":\"#2a3f5f\"},\"marker\":{\"line\":{\"color\":\"#E5ECF6\",\"width\":0.5},\"pattern\":{\"fillmode\":\"overlay\",\"size\":10,\"solidity\":0.2}},\"type\":\"bar\"}],\"barpolar\":[{\"marker\":{\"line\":{\"color\":\"#E5ECF6\",\"width\":0.5},\"pattern\":{\"fillmode\":\"overlay\",\"size\":10,\"solidity\":0.2}},\"type\":\"barpolar\"}],\"carpet\":[{\"aaxis\":{\"endlinecolor\":\"#2a3f5f\",\"gridcolor\":\"white\",\"linecolor\":\"white\",\"minorgridcolor\":\"white\",\"startlinecolor\":\"#2a3f5f\"},\"baxis\":{\"endlinecolor\":\"#2a3f5f\",\"gridcolor\":\"white\",\"linecolor\":\"white\",\"minorgridcolor\":\"white\",\"startlinecolor\":\"#2a3f5f\"},\"type\":\"carpet\"}],\"choropleth\":[{\"colorbar\":{\"outlinewidth\":0,\"ticks\":\"\"},\"type\":\"choropleth\"}],\"contour\":[{\"colorbar\":{\"outlinewidth\":0,\"ticks\":\"\"},\"colorscale\":[[0.0,\"#0d0887\"],[0.1111111111111111,\"#46039f\"],[0.2222222222222222,\"#7201a8\"],[0.3333333333333333,\"#9c179e\"],[0.4444444444444444,\"#bd3786\"],[0.5555555555555556,\"#d8576b\"],[0.6666666666666666,\"#ed7953\"],[0.7777777777777778,\"#fb9f3a\"],[0.8888888888888888,\"#fdca26\"],[1.0,\"#f0f921\"]],\"type\":\"contour\"}],\"contourcarpet\":[{\"colorbar\":{\"outlinewidth\":0,\"ticks\":\"\"},\"type\":\"contourcarpet\"}],\"heatmap\":[{\"colorbar\":{\"outlinewidth\":0,\"ticks\":\"\"},\"colorscale\":[[0.0,\"#0d0887\"],[0.1111111111111111,\"#46039f\"],[0.2222222222222222,\"#7201a8\"],[0.3333333333333333,\"#9c179e\"],[0.4444444444444444,\"#bd3786\"],[0.5555555555555556,\"#d8576b\"],[0.6666666666666666,\"#ed7953\"],[0.7777777777777778,\"#fb9f3a\"],[0.8888888888888888,\"#fdca26\"],[1.0,\"#f0f921\"]],\"type\":\"heatmap\"}],\"heatmapgl\":[{\"colorbar\":{\"outlinewidth\":0,\"ticks\":\"\"},\"colorscale\":[[0.0,\"#0d0887\"],[0.1111111111111111,\"#46039f\"],[0.2222222222222222,\"#7201a8\"],[0.3333333333333333,\"#9c179e\"],[0.4444444444444444,\"#bd3786\"],[0.5555555555555556,\"#d8576b\"],[0.6666666666666666,\"#ed7953\"],[0.7777777777777778,\"#fb9f3a\"],[0.8888888888888888,\"#fdca26\"],[1.0,\"#f0f921\"]],\"type\":\"heatmapgl\"}],\"histogram\":[{\"marker\":{\"pattern\":{\"fillmode\":\"overlay\",\"size\":10,\"solidity\":0.2}},\"type\":\"histogram\"}],\"histogram2d\":[{\"colorbar\":{\"outlinewidth\":0,\"ticks\":\"\"},\"colorscale\":[[0.0,\"#0d0887\"],[0.1111111111111111,\"#46039f\"],[0.2222222222222222,\"#7201a8\"],[0.3333333333333333,\"#9c179e\"],[0.4444444444444444,\"#bd3786\"],[0.5555555555555556,\"#d8576b\"],[0.6666666666666666,\"#ed7953\"],[0.7777777777777778,\"#fb9f3a\"],[0.8888888888888888,\"#fdca26\"],[1.0,\"#f0f921\"]],\"type\":\"histogram2d\"}],\"histogram2dcontour\":[{\"colorbar\":{\"outlinewidth\":0,\"ticks\":\"\"},\"colorscale\":[[0.0,\"#0d0887\"],[0.1111111111111111,\"#46039f\"],[0.2222222222222222,\"#7201a8\"],[0.3333333333333333,\"#9c179e\"],[0.4444444444444444,\"#bd3786\"],[0.5555555555555556,\"#d8576b\"],[0.6666666666666666,\"#ed7953\"],[0.7777777777777778,\"#fb9f3a\"],[0.8888888888888888,\"#fdca26\"],[1.0,\"#f0f921\"]],\"type\":\"histogram2dcontour\"}],\"mesh3d\":[{\"colorbar\":{\"outlinewidth\":0,\"ticks\":\"\"},\"type\":\"mesh3d\"}],\"parcoords\":[{\"line\":{\"colorbar\":{\"outlinewidth\":0,\"ticks\":\"\"}},\"type\":\"parcoords\"}],\"pie\":[{\"automargin\":true,\"type\":\"pie\"}],\"scatter\":[{\"marker\":{\"colorbar\":{\"outlinewidth\":0,\"ticks\":\"\"}},\"type\":\"scatter\"}],\"scatter3d\":[{\"line\":{\"colorbar\":{\"outlinewidth\":0,\"ticks\":\"\"}},\"marker\":{\"colorbar\":{\"outlinewidth\":0,\"ticks\":\"\"}},\"type\":\"scatter3d\"}],\"scattercarpet\":[{\"marker\":{\"colorbar\":{\"outlinewidth\":0,\"ticks\":\"\"}},\"type\":\"scattercarpet\"}],\"scattergeo\":[{\"marker\":{\"colorbar\":{\"outlinewidth\":0,\"ticks\":\"\"}},\"type\":\"scattergeo\"}],\"scattergl\":[{\"marker\":{\"colorbar\":{\"outlinewidth\":0,\"ticks\":\"\"}},\"type\":\"scattergl\"}],\"scattermapbox\":[{\"marker\":{\"colorbar\":{\"outlinewidth\":0,\"ticks\":\"\"}},\"type\":\"scattermapbox\"}],\"scatterpolar\":[{\"marker\":{\"colorbar\":{\"outlinewidth\":0,\"ticks\":\"\"}},\"type\":\"scatterpolar\"}],\"scatterpolargl\":[{\"marker\":{\"colorbar\":{\"outlinewidth\":0,\"ticks\":\"\"}},\"type\":\"scatterpolargl\"}],\"scatterternary\":[{\"marker\":{\"colorbar\":{\"outlinewidth\":0,\"ticks\":\"\"}},\"type\":\"scatterternary\"}],\"surface\":[{\"colorbar\":{\"outlinewidth\":0,\"ticks\":\"\"},\"colorscale\":[[0.0,\"#0d0887\"],[0.1111111111111111,\"#46039f\"],[0.2222222222222222,\"#7201a8\"],[0.3333333333333333,\"#9c179e\"],[0.4444444444444444,\"#bd3786\"],[0.5555555555555556,\"#d8576b\"],[0.6666666666666666,\"#ed7953\"],[0.7777777777777778,\"#fb9f3a\"],[0.8888888888888888,\"#fdca26\"],[1.0,\"#f0f921\"]],\"type\":\"surface\"}],\"table\":[{\"cells\":{\"fill\":{\"color\":\"#EBF0F8\"},\"line\":{\"color\":\"white\"}},\"header\":{\"fill\":{\"color\":\"#C8D4E3\"},\"line\":{\"color\":\"white\"}},\"type\":\"table\"}]},\"layout\":{\"annotationdefaults\":{\"arrowcolor\":\"#2a3f5f\",\"arrowhead\":0,\"arrowwidth\":1},\"autotypenumbers\":\"strict\",\"coloraxis\":{\"colorbar\":{\"outlinewidth\":0,\"ticks\":\"\"}},\"colorscale\":{\"diverging\":[[0,\"#8e0152\"],[0.1,\"#c51b7d\"],[0.2,\"#de77ae\"],[0.3,\"#f1b6da\"],[0.4,\"#fde0ef\"],[0.5,\"#f7f7f7\"],[0.6,\"#e6f5d0\"],[0.7,\"#b8e186\"],[0.8,\"#7fbc41\"],[0.9,\"#4d9221\"],[1,\"#276419\"]],\"sequential\":[[0.0,\"#0d0887\"],[0.1111111111111111,\"#46039f\"],[0.2222222222222222,\"#7201a8\"],[0.3333333333333333,\"#9c179e\"],[0.4444444444444444,\"#bd3786\"],[0.5555555555555556,\"#d8576b\"],[0.6666666666666666,\"#ed7953\"],[0.7777777777777778,\"#fb9f3a\"],[0.8888888888888888,\"#fdca26\"],[1.0,\"#f0f921\"]],\"sequentialminus\":[[0.0,\"#0d0887\"],[0.1111111111111111,\"#46039f\"],[0.2222222222222222,\"#7201a8\"],[0.3333333333333333,\"#9c179e\"],[0.4444444444444444,\"#bd3786\"],[0.5555555555555556,\"#d8576b\"],[0.6666666666666666,\"#ed7953\"],[0.7777777777777778,\"#fb9f3a\"],[0.8888888888888888,\"#fdca26\"],[1.0,\"#f0f921\"]]},\"colorway\":[\"#636efa\",\"#EF553B\",\"#00cc96\",\"#ab63fa\",\"#FFA15A\",\"#19d3f3\",\"#FF6692\",\"#B6E880\",\"#FF97FF\",\"#FECB52\"],\"font\":{\"color\":\"#2a3f5f\"},\"geo\":{\"bgcolor\":\"white\",\"lakecolor\":\"white\",\"landcolor\":\"#E5ECF6\",\"showlakes\":true,\"showland\":true,\"subunitcolor\":\"white\"},\"hoverlabel\":{\"align\":\"left\"},\"hovermode\":\"closest\",\"mapbox\":{\"style\":\"light\"},\"paper_bgcolor\":\"white\",\"plot_bgcolor\":\"#E5ECF6\",\"polar\":{\"angularaxis\":{\"gridcolor\":\"white\",\"linecolor\":\"white\",\"ticks\":\"\"},\"bgcolor\":\"#E5ECF6\",\"radialaxis\":{\"gridcolor\":\"white\",\"linecolor\":\"white\",\"ticks\":\"\"}},\"scene\":{\"xaxis\":{\"backgroundcolor\":\"#E5ECF6\",\"gridcolor\":\"white\",\"gridwidth\":2,\"linecolor\":\"white\",\"showbackground\":true,\"ticks\":\"\",\"zerolinecolor\":\"white\"},\"yaxis\":{\"backgroundcolor\":\"#E5ECF6\",\"gridcolor\":\"white\",\"gridwidth\":2,\"linecolor\":\"white\",\"showbackground\":true,\"ticks\":\"\",\"zerolinecolor\":\"white\"},\"zaxis\":{\"backgroundcolor\":\"#E5ECF6\",\"gridcolor\":\"white\",\"gridwidth\":2,\"linecolor\":\"white\",\"showbackground\":true,\"ticks\":\"\",\"zerolinecolor\":\"white\"}},\"shapedefaults\":{\"line\":{\"color\":\"#2a3f5f\"}},\"ternary\":{\"aaxis\":{\"gridcolor\":\"white\",\"linecolor\":\"white\",\"ticks\":\"\"},\"baxis\":{\"gridcolor\":\"white\",\"linecolor\":\"white\",\"ticks\":\"\"},\"bgcolor\":\"#E5ECF6\",\"caxis\":{\"gridcolor\":\"white\",\"linecolor\":\"white\",\"ticks\":\"\"}},\"title\":{\"x\":0.05},\"xaxis\":{\"automargin\":true,\"gridcolor\":\"white\",\"linecolor\":\"white\",\"ticks\":\"\",\"title\":{\"standoff\":15},\"zerolinecolor\":\"white\",\"zerolinewidth\":2},\"yaxis\":{\"automargin\":true,\"gridcolor\":\"white\",\"linecolor\":\"white\",\"ticks\":\"\",\"title\":{\"standoff\":15},\"zerolinecolor\":\"white\",\"zerolinewidth\":2}}},\"title\":{\"text\":\"Bitcoin live share price evolution\"},\"yaxis\":{\"title\":{\"text\":\"Bitcoin Price (US Dollars)\"}},\"xaxis\":{\"rangeslider\":{\"visible\":true},\"rangeselector\":{\"buttons\":[{\"count\":15,\"label\":\"15m\",\"step\":\"minute\",\"stepmode\":\"backward\"},{\"count\":45,\"label\":\"45m\",\"step\":\"minute\",\"stepmode\":\"backward\"},{\"count\":1,\"label\":\"HTD\",\"step\":\"hour\",\"stepmode\":\"todate\"},{\"count\":6,\"label\":\"6h\",\"step\":\"hour\",\"stepmode\":\"backward\"},{\"step\":\"all\"}]}}},                        {\"responsive\": true}                    ).then(function(){\n",
       "                            \n",
       "var gd = document.getElementById('4e9a34e4-b986-4781-80fa-91d51a2e93fe');\n",
       "var x = new MutationObserver(function (mutations, observer) {{\n",
       "        var display = window.getComputedStyle(gd).display;\n",
       "        if (!display || display === 'none') {{\n",
       "            console.log([gd, 'removed!']);\n",
       "            Plotly.purge(gd);\n",
       "            observer.disconnect();\n",
       "        }}\n",
       "}});\n",
       "\n",
       "// Listen for the removal of the full notebook cells\n",
       "var notebookContainer = gd.closest('#notebook-container');\n",
       "if (notebookContainer) {{\n",
       "    x.observe(notebookContainer, {childList: true});\n",
       "}}\n",
       "\n",
       "// Listen for the clearing of the current output cell\n",
       "var outputEl = gd.closest('.output');\n",
       "if (outputEl) {{\n",
       "    x.observe(outputEl, {childList: true});\n",
       "}}\n",
       "\n",
       "                        })                };                });            </script>        </div>"
      ]
     },
     "metadata": {},
     "output_type": "display_data"
    }
   ],
   "source": [
    "# Import the necessary packages\n",
    "import numpy as np\n",
    "import pandas as pd\n",
    "import dash \n",
    "\n",
    "# Yahoo finance data source to get the data\n",
    "import yfinance as yf\n",
    "\n",
    "#Data viz to visualize data\n",
    "import plotly.graph_objs as go\n",
    "\n",
    "# Get Bitcoin data\n",
    "data = yf.download(tickers='BTC-USD', period = '22h', interval = '15m')\n",
    "\n",
    "#declare figure\n",
    "fig = go.Figure()\n",
    "\n",
    "#Candlestick\n",
    "fig.add_trace(go.Candlestick(x=data.index,\n",
    "                open=data['Open'],\n",
    "                high=data['High'],\n",
    "                low=data['Low'],\n",
    "                close=data['Close'], name = 'market data'))\n",
    "\n",
    "# Add titles\n",
    "fig.update_layout(\n",
    "    title='Bitcoin live share price evolution',\n",
    "    yaxis_title='Bitcoin Price (US Dollars)')\n",
    "\n",
    "# X-Axes\n",
    "fig.update_xaxes(\n",
    "    rangeslider_visible=True,\n",
    "    rangeselector=dict(\n",
    "        buttons=list([\n",
    "            dict(count=15, label=\"15m\", step=\"minute\", stepmode=\"backward\"),\n",
    "            dict(count=45, label=\"45m\", step=\"minute\", stepmode=\"backward\"),\n",
    "            dict(count=1, label=\"HTD\", step=\"hour\", stepmode=\"todate\"),\n",
    "            dict(count=6, label=\"6h\", step=\"hour\", stepmode=\"backward\"),\n",
    "            dict(step=\"all\")\n",
    "        ])\n",
    "    )\n",
    ")\n",
    "\n",
    "#Show\n",
    "fig.show()\n"
   ]
  },
  {
   "cell_type": "code",
   "execution_count": 45,
   "id": "a1d40f7f",
   "metadata": {},
   "outputs": [
    {
     "ename": "SyntaxError",
     "evalue": "positional argument follows keyword argument (334974760.py, line 32)",
     "output_type": "error",
     "traceback": [
      "\u001b[1;36m  Input \u001b[1;32mIn [45]\u001b[1;36m\u001b[0m\n\u001b[1;33m    fig.update_xaxes(\u001b[0m\n\u001b[1;37m    ^\u001b[0m\n\u001b[1;31mSyntaxError\u001b[0m\u001b[1;31m:\u001b[0m positional argument follows keyword argument\n"
     ]
    }
   ],
   "source": [
    "# Import the necessary packages\n",
    "import numpy as np\n",
    "import pandas as pd\n",
    "\n",
    "# Yahoo finance data source to get the data\n",
    "import yfinance as yf\n",
    "\n",
    "#Data viz to visualize data\n",
    "import plotly.graph_objs as go\n",
    "\n",
    "#input crypto symbol\n",
    "cs= input(\"Crypto symbol\")\n",
    "# Get Bitcoin data\n",
    "data = yf.download(tickers= cs, period = '22h', interval = '15m')\n",
    "\n",
    "#declare figure\n",
    "fig = go.Figure()\n",
    "\n",
    "#Candlestick\n",
    "fig.add_trace(go.Candlestick(x=data.index,\n",
    "                open=data['Open'],\n",
    "                high=data['High'],\n",
    "                low=data['Low'],\n",
    "                close=data['Close'], name = 'market data'))\n",
    "\n",
    "# Add titles\n",
    "fig.update_layout(\n",
    "    title='live'+cs+ 'share price evolution',\n",
    "    yaxis_title=cs, 'Price (US Dollars)'\n",
    "\n",
    "# X-Axes\n",
    "fig.update_xaxes(\n",
    "    rangeslider_visible=True,\n",
    "    rangeselector=dict(\n",
    "        buttons=list([\n",
    "            dict(count=15, label=\"15m\", step=\"minute\", stepmode=\"backward\"),\n",
    "            dict(count=45, label=\"45m\", step=\"minute\", stepmode=\"backward\"),\n",
    "            dict(count=1, label=\"HTD\", step=\"hour\", stepmode=\"todate\"),\n",
    "            dict(count=6, label=\"6h\", step=\"hour\", stepmode=\"backward\"),\n",
    "            dict(step=\"all\")\n",
    "        ])\n",
    "    )\n",
    ")\n",
    "\n",
    "#Show\n",
    "fig.show()\n"
   ]
  },
  {
   "cell_type": "code",
   "execution_count": 24,
   "id": "17bb4852",
   "metadata": {},
   "outputs": [
    {
     "name": "stdout",
     "output_type": "stream",
     "text": [
      "Input an integer: 2\n",
      "2\n",
      "2\n",
      "2\n",
      "2\n"
     ]
    }
   ],
   "source": [
    "largest = None\n",
    "Smallest = None\n",
    "while True:\n",
    "    num = input(\"Input an integer: \")\n",
    "    if num =='done':\n",
    "        break\n",
    "    else:\n",
    "        continue\n",
    "        try:\n",
    "            inum = int(num)\n",
    "        except:\n",
    "            print('Input a valid integer number')\n",
    "#         continue\n",
    "#     imin = min(num)\n",
    "print(max(num))\n",
    "print(min(num))\n",
    "a = max(num)\n",
    "b = min(num)\n",
    "print(a)\n",
    "print(b)"
   ]
  },
  {
   "cell_type": "code",
   "execution_count": 25,
   "id": "748eca69",
   "metadata": {},
   "outputs": [
    {
     "name": "stdout",
     "output_type": "stream",
     "text": [
      "Enter a number2\n",
      "Enter a number4\n",
      "Enter a number5\n",
      "Enter a number4\n",
      "Enter a number3\n",
      "Enter a number9\n",
      "Enter a numberdone\n",
      "Max:9\n",
      "Min:2\n"
     ]
    }
   ],
   "source": [
    "# Defining two variables to None\n",
    "largest = None\n",
    "smallest = None\n",
    "# start an infinite loop\n",
    "while True:\n",
    "    num =input('Enter a number')\n",
    "# use try and except to capture ValueError\n",
    "    try:\n",
    "        if num == 'done':\n",
    "            break\n",
    "        if largest is None:\n",
    "            largest = int(num)\n",
    "        if smallest is None:\n",
    "            smallest = int(num)\n",
    "        if int(num) > largest:\n",
    "            largest = int(num)\n",
    "        if int(num) < smallest:\n",
    "            smallest = int(num)\n",
    "    except ValueError:\n",
    "        print(\"Input an integer\")\n",
    "        continue\n",
    "print(\"Max:\" + str(largest))\n",
    "print(\"Min:\" + str(smallest))"
   ]
  },
  {
   "cell_type": "code",
   "execution_count": 26,
   "id": "5ca7187c",
   "metadata": {},
   "outputs": [
    {
     "name": "stdout",
     "output_type": "stream",
     "text": [
      "Enter a number2\n",
      "Enter a number5\n",
      "Enter a number4\n",
      "Enter a number3\n",
      "Enter a number6\n",
      "Enter a numberdone\n",
      "Max:2\n",
      "Min:2\n"
     ]
    },
    {
     "ename": "TypeError",
     "evalue": "'int' object is not iterable",
     "output_type": "error",
     "traceback": [
      "\u001b[1;31m---------------------------------------------------------------------------\u001b[0m",
      "\u001b[1;31mTypeError\u001b[0m                                 Traceback (most recent call last)",
      "Input \u001b[1;32mIn [26]\u001b[0m, in \u001b[0;36m<cell line: 21>\u001b[1;34m()\u001b[0m\n\u001b[0;32m     19\u001b[0m \u001b[38;5;28mprint\u001b[39m(\u001b[38;5;124m\"\u001b[39m\u001b[38;5;124mMax:\u001b[39m\u001b[38;5;124m\"\u001b[39m \u001b[38;5;241m+\u001b[39m \u001b[38;5;28mstr\u001b[39m(largest))\n\u001b[0;32m     20\u001b[0m \u001b[38;5;28mprint\u001b[39m(\u001b[38;5;124m\"\u001b[39m\u001b[38;5;124mMin:\u001b[39m\u001b[38;5;124m\"\u001b[39m \u001b[38;5;241m+\u001b[39m \u001b[38;5;28mstr\u001b[39m(smallest))\n\u001b[1;32m---> 21\u001b[0m \u001b[38;5;28mprint\u001b[39m(\u001b[38;5;28;43mmax\u001b[39;49m\u001b[43m(\u001b[49m\u001b[43mlargest\u001b[49m\u001b[43m)\u001b[49m)\n\u001b[0;32m     22\u001b[0m \u001b[38;5;28mprint\u001b[39m(\u001b[38;5;28mmin\u001b[39m(largest))\n",
      "\u001b[1;31mTypeError\u001b[0m: 'int' object is not iterable"
     ]
    }
   ],
   "source": []
  },
  {
   "cell_type": "code",
   "execution_count": null,
   "id": "c4a2d1be",
   "metadata": {},
   "outputs": [],
   "source": []
  }
 ],
 "metadata": {
  "kernelspec": {
   "display_name": "Python 3 (ipykernel)",
   "language": "python",
   "name": "python3"
  },
  "language_info": {
   "codemirror_mode": {
    "name": "ipython",
    "version": 3
   },
   "file_extension": ".py",
   "mimetype": "text/x-python",
   "name": "python",
   "nbconvert_exporter": "python",
   "pygments_lexer": "ipython3",
   "version": "3.9.12"
  }
 },
 "nbformat": 4,
 "nbformat_minor": 5
}
